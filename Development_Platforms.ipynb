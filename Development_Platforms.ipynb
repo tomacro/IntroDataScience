{
  "nbformat": 4,
  "nbformat_minor": 0,
  "metadata": {
    "colab": {
      "name": "Development Platforms.ipynb",
      "provenance": [],
      "collapsed_sections": [],
      "authorship_tag": "ABX9TyOQszXN3ungKjWDXP6vpCuT",
      "include_colab_link": true
    },
    "kernelspec": {
      "name": "python3",
      "display_name": "Python 3"
    }
  },
  "cells": [
    {
      "cell_type": "markdown",
      "metadata": {
        "id": "view-in-github",
        "colab_type": "text"
      },
      "source": [
        "<a href=\"https://colab.research.google.com/github/tomacro/IntroDataScience/blob/master/Development_Platforms.ipynb\" target=\"_parent\"><img src=\"https://colab.research.google.com/assets/colab-badge.svg\" alt=\"Open In Colab\"/></a>"
      ]
    },
    {
      "cell_type": "markdown",
      "metadata": {
        "id": "K4dfZ41Hsvq8",
        "colab_type": "text"
      },
      "source": [
        "Now that we have looked at the popularity of programming languages, we will now look at if developers are changing platforms for which they are developing for each year. Many languages are applicable to multiple platforms, especially if a developer specializes in back-end interfaces. We will illustrate some principles of the CRISP-DM (Cross-industry standard process for data mining) model for our analysis as well."
      ]
    },
    {
      "cell_type": "code",
      "metadata": {
        "id": "EcYT6Hi_oMrD",
        "colab_type": "code",
        "colab": {}
      },
      "source": [
        "import pandas as pd\n",
        "import numpy as np\n",
        "import matplotlib.pyplot as plt\n",
        "from collections import defaultdict\n",
        "\n",
        "# Using the Pandas, Numpy, and MatPlotLib libraries"
      ],
      "execution_count": 6,
      "outputs": []
    },
    {
      "cell_type": "markdown",
      "metadata": {
        "id": "vTycfwa3xAU-",
        "colab_type": "text"
      },
      "source": [
        "Now we will bring in the datasets from the appropriate years."
      ]
    },
    {
      "cell_type": "code",
      "metadata": {
        "id": "D4KkStoDxIO0",
        "colab_type": "code",
        "colab": {}
      },
      "source": [
        "# Importing survey results\n",
        "df_17 = pd.read_csv('data/2017_survey_results_public.csv')\n",
        "df_18 = pd.read_csv('data/2018_survey_results_public.csv')\n",
        "df_19 = pd.read_csv('data/2019_survey_results_public.csv')\n",
        "df_20 = pd.read_csv('data/2020_survey_results_public.csv')"
      ],
      "execution_count": 7,
      "outputs": []
    },
    {
      "cell_type": "markdown",
      "metadata": {
        "id": "u-XXvePZynTf",
        "colab_type": "text"
      },
      "source": [
        "**CRISP-DM: Business Understanding**\n",
        "\n",
        "There are several different types of IDEs available for use. Some are open source and available for free, while others may have a significant cost associated with them but also have significantly more features. It is important to know what the industry trends are and how they change."
      ]
    },
    {
      "cell_type": "markdown",
      "metadata": {
        "id": "21BssopVzk4e",
        "colab_type": "text"
      },
      "source": [
        "**CRISP-DM: Data Understanding**"
      ]
    },
    {
      "cell_type": "code",
      "metadata": {
        "id": "15FPmJsNzrjt",
        "colab_type": "code",
        "colab": {
          "base_uri": "https://localhost:8080/",
          "height": 423
        },
        "outputId": "0cdda498-68c8-4696-9768-62c8ac8e41eb"
      },
      "source": [
        "df_20['PlatformWorkedWith'].value_counts().reset_index()"
      ],
      "execution_count": 11,
      "outputs": [
        {
          "output_type": "execute_result",
          "data": {
            "text/html": [
              "<div>\n",
              "<style scoped>\n",
              "    .dataframe tbody tr th:only-of-type {\n",
              "        vertical-align: middle;\n",
              "    }\n",
              "\n",
              "    .dataframe tbody tr th {\n",
              "        vertical-align: top;\n",
              "    }\n",
              "\n",
              "    .dataframe thead th {\n",
              "        text-align: right;\n",
              "    }\n",
              "</style>\n",
              "<table border=\"1\" class=\"dataframe\">\n",
              "  <thead>\n",
              "    <tr style=\"text-align: right;\">\n",
              "      <th></th>\n",
              "      <th>index</th>\n",
              "      <th>PlatformWorkedWith</th>\n",
              "    </tr>\n",
              "  </thead>\n",
              "  <tbody>\n",
              "    <tr>\n",
              "      <th>0</th>\n",
              "      <td>Windows</td>\n",
              "      <td>1234</td>\n",
              "    </tr>\n",
              "    <tr>\n",
              "      <th>1</th>\n",
              "      <td>Linux;Windows</td>\n",
              "      <td>594</td>\n",
              "    </tr>\n",
              "    <tr>\n",
              "      <th>2</th>\n",
              "      <td>Linux</td>\n",
              "      <td>482</td>\n",
              "    </tr>\n",
              "    <tr>\n",
              "      <th>3</th>\n",
              "      <td>Android</td>\n",
              "      <td>316</td>\n",
              "    </tr>\n",
              "    <tr>\n",
              "      <th>4</th>\n",
              "      <td>Microsoft Azure;Windows</td>\n",
              "      <td>287</td>\n",
              "    </tr>\n",
              "    <tr>\n",
              "      <th>...</th>\n",
              "      <td>...</td>\n",
              "      <td>...</td>\n",
              "    </tr>\n",
              "    <tr>\n",
              "      <th>2830</th>\n",
              "      <td>Android;AWS;Heroku;Linux;MacOS;Windows</td>\n",
              "      <td>1</td>\n",
              "    </tr>\n",
              "    <tr>\n",
              "      <th>2831</th>\n",
              "      <td>Android;Arduino;AWS;Docker;Kubernetes;Linux;Wo...</td>\n",
              "      <td>1</td>\n",
              "    </tr>\n",
              "    <tr>\n",
              "      <th>2832</th>\n",
              "      <td>Android;AWS;Docker;Slack Apps and Integrations...</td>\n",
              "      <td>1</td>\n",
              "    </tr>\n",
              "    <tr>\n",
              "      <th>2833</th>\n",
              "      <td>Arduino;AWS;Linux;MacOS;Microsoft Azure;WordPress</td>\n",
              "      <td>1</td>\n",
              "    </tr>\n",
              "    <tr>\n",
              "      <th>2834</th>\n",
              "      <td>Heroku;Microsoft Azure;WordPress</td>\n",
              "      <td>1</td>\n",
              "    </tr>\n",
              "  </tbody>\n",
              "</table>\n",
              "<p>2835 rows × 2 columns</p>\n",
              "</div>"
            ],
            "text/plain": [
              "                                                  index  PlatformWorkedWith\n",
              "0                                               Windows                1234\n",
              "1                                         Linux;Windows                 594\n",
              "2                                                 Linux                 482\n",
              "3                                               Android                 316\n",
              "4                               Microsoft Azure;Windows                 287\n",
              "...                                                 ...                 ...\n",
              "2830             Android;AWS;Heroku;Linux;MacOS;Windows                   1\n",
              "2831  Android;Arduino;AWS;Docker;Kubernetes;Linux;Wo...                   1\n",
              "2832  Android;AWS;Docker;Slack Apps and Integrations...                   1\n",
              "2833  Arduino;AWS;Linux;MacOS;Microsoft Azure;WordPress                   1\n",
              "2834                   Heroku;Microsoft Azure;WordPress                   1\n",
              "\n",
              "[2835 rows x 2 columns]"
            ]
          },
          "metadata": {
            "tags": []
          },
          "execution_count": 11
        }
      ]
    },
    {
      "cell_type": "markdown",
      "metadata": {
        "id": "B2U4ocai0kFG",
        "colab_type": "text"
      },
      "source": [
        "The datasets provided by Stack Overflow show that developers frequently use several languages. We will need to separate those before we conduct any more analysis."
      ]
    },
    {
      "cell_type": "markdown",
      "metadata": {
        "id": "I7P3_Rjk02Jk",
        "colab_type": "text"
      },
      "source": [
        "**CRISP-DM: Data Preparation**\n",
        "\n",
        "Since we are working with 4 separate data frames, we should build a function that will enable us to separate items from a list. This enables us to efficiently use coding and computing resources with reusable code."
      ]
    },
    {
      "cell_type": "code",
      "metadata": {
        "id": "bYfgaogy1R9B",
        "colab_type": "code",
        "colab": {}
      },
      "source": [
        "def separate_list(list_input):\n",
        "    '''\n",
        "    INPUT - A list containing multiple items joined together.\n",
        "\n",
        "    OUTPUT - A list containing the items separated out individually.\n",
        "    '''\n",
        "    list_new = []\n",
        "    for language in list_input:\n",
        "        new_item = language.split(';')\n",
        "        new_item = map(lambda x: x.strip(), new_item) \n",
        "        list_new.extend(list(new_item))\n",
        "\n",
        "    return list(set(list_new))"
      ],
      "execution_count": 13,
      "outputs": []
    },
    {
      "cell_type": "markdown",
      "metadata": {
        "id": "zMpQBE3n2K0x",
        "colab_type": "text"
      },
      "source": [
        "Now that we have a function that can effectively process our data to get it into the format that we need, let's build the variables we need for our analysis."
      ]
    },
    {
      "cell_type": "code",
      "metadata": {
        "id": "QBHWJgoH2Vjv",
        "colab_type": "code",
        "colab": {}
      },
      "source": [
        "platform_list_17 = list(df_17.groupby(['HaveWorkedPlatform']).mean().index)\n",
        "plats_17 = separate_list(platform_list_17)\n",
        "platform_list_18 = list(df_18.groupby(['PlatformWorkedWith']).mean().index)\n",
        "plats_18 = separate_list(platform_list_18)\n",
        "platform_list_19 = list(df_19.groupby(['PlatformWorkedWith']).mean().index)\n",
        "plats_19 = separate_list(platform_list_19)\n",
        "platform_list_20 = list(df_20.groupby(['PlatformWorkedWith']).mean().index)\n",
        "plats_20 = separate_list(platform_list_20)"
      ],
      "execution_count": 26,
      "outputs": []
    },
    {
      "cell_type": "markdown",
      "metadata": {
        "id": "rTCkXRO46Fx6",
        "colab_type": "text"
      },
      "source": [
        "We will use the `total_count` function to parse through these data frames to provide a summation of the instances of each platform."
      ]
    },
    {
      "cell_type": "code",
      "metadata": {
        "id": "u6KOB0xj6rzc",
        "colab_type": "code",
        "colab": {}
      },
      "source": [
        "def total_count(df, column_1, column_2, rename_column, possible_vals):\n",
        "    '''\n",
        "    Code from: https://github.com/nouman-10/Insights-from-Stackoverflow-Dataset/blob/master/utils.py\n",
        "    INPUT:\n",
        "    df - the pandas dataframe you want to search\n",
        "    column_1 - the column name you want to look through\n",
        "    column_2 - the column you want to count values from\n",
        "    rename_column - the column you want the original column_1 renamed to\n",
        "    possible_vals - a list of strings you want to search for in each row of df[col]\n",
        "    OUTPUT:\n",
        "    new_df - a dataframe of each look_for with the count of how often it shows up\n",
        "    '''\n",
        "    df = df[column_1].value_counts().reset_index()\n",
        "    df.rename(columns={'index': rename_column, column_1: column_2}, inplace=True)\n",
        "    new_df = defaultdict(int)\n",
        "    #loop through list of possible values\n",
        "    for val in possible_vals:\n",
        "        #loop through rows\n",
        "        for index in range(df.shape[0]):\n",
        "            if val in df[rename_column][index]:\n",
        "                new_df[val] += int(df[column_2][index])\n",
        "    new_df = pd.DataFrame(pd.Series(new_df)).reset_index()\n",
        "    new_df.columns = [rename_column, column_2]\n",
        "    new_df.sort_values('count', ascending=False, inplace=True)\n",
        "    new_df.set_index(rename_column, inplace=True)\n",
        "    return new_df"
      ],
      "execution_count": 28,
      "outputs": []
    },
    {
      "cell_type": "code",
      "metadata": {
        "id": "rieb5OXB6X9i",
        "colab_type": "code",
        "colab": {}
      },
      "source": [
        "plats_df17 = total_count(df_17, 'HaveWorkedPlatform', 'count', 'Platform', plats_17)\n",
        "plats_df18 = total_count(df_18, 'PlatformWorkedWith', 'count', 'Platform', plats_18)\n",
        "plats_df19 = total_count(df_19, 'PlatformWorkedWith', 'count', 'Platform', plats_19)\n",
        "plats_df20 = total_count(df_20, 'PlatformWorkedWith', 'count', 'Platform', plats_20)"
      ],
      "execution_count": 29,
      "outputs": []
    },
    {
      "cell_type": "code",
      "metadata": {
        "id": "4N7UH-bL7qHi",
        "colab_type": "code",
        "colab": {
          "base_uri": "https://localhost:8080/",
          "height": 237
        },
        "outputId": "8138f8e6-3ca7-45b6-e3de-4df0094ff8ac"
      },
      "source": [
        "plats_df20.head()"
      ],
      "execution_count": 30,
      "outputs": [
        {
          "output_type": "execute_result",
          "data": {
            "text/html": [
              "<div>\n",
              "<style scoped>\n",
              "    .dataframe tbody tr th:only-of-type {\n",
              "        vertical-align: middle;\n",
              "    }\n",
              "\n",
              "    .dataframe tbody tr th {\n",
              "        vertical-align: top;\n",
              "    }\n",
              "\n",
              "    .dataframe thead th {\n",
              "        text-align: right;\n",
              "    }\n",
              "</style>\n",
              "<table border=\"1\" class=\"dataframe\">\n",
              "  <thead>\n",
              "    <tr style=\"text-align: right;\">\n",
              "      <th></th>\n",
              "      <th>count</th>\n",
              "    </tr>\n",
              "    <tr>\n",
              "      <th>Platform</th>\n",
              "      <th></th>\n",
              "    </tr>\n",
              "  </thead>\n",
              "  <tbody>\n",
              "    <tr>\n",
              "      <th>Linux</th>\n",
              "      <td>7337</td>\n",
              "    </tr>\n",
              "    <tr>\n",
              "      <th>Windows</th>\n",
              "      <td>7299</td>\n",
              "    </tr>\n",
              "    <tr>\n",
              "      <th>Docker</th>\n",
              "      <td>4758</td>\n",
              "    </tr>\n",
              "    <tr>\n",
              "      <th>AWS</th>\n",
              "      <td>3810</td>\n",
              "    </tr>\n",
              "    <tr>\n",
              "      <th>Android</th>\n",
              "      <td>3619</td>\n",
              "    </tr>\n",
              "  </tbody>\n",
              "</table>\n",
              "</div>"
            ],
            "text/plain": [
              "          count\n",
              "Platform       \n",
              "Linux      7337\n",
              "Windows    7299\n",
              "Docker     4758\n",
              "AWS        3810\n",
              "Android    3619"
            ]
          },
          "metadata": {
            "tags": []
          },
          "execution_count": 30
        }
      ]
    },
    {
      "cell_type": "markdown",
      "metadata": {
        "id": "a5_RvDCl7vs8",
        "colab_type": "text"
      },
      "source": [
        "Now that our data is in the correct format, we can utilize a bar plot to compare the survey responses visually. To do this, we first need to create a new data frame combining the data from the four years."
      ]
    },
    {
      "cell_type": "code",
      "metadata": {
        "id": "8243KvKy786U",
        "colab_type": "code",
        "colab": {
          "base_uri": "https://localhost:8080/",
          "height": 237
        },
        "outputId": "4bc7ceea-58e0-4a87-9fed-a2710cdc7c21"
      },
      "source": [
        "plats_17_18 = pd.merge(plats_df17, plats_df18, on='Platform')\n",
        "plats_19_20 = pd.merge(plats_df19, plats_df20, on='Platform')\n",
        "plats_merge = pd.merge(plats_17_18, plats_19_20, on='Platform')\n",
        "plats_merge.columns = ['2017', '2018', '2019', '2020']\n",
        "\n",
        "plats_merge.head()"
      ],
      "execution_count": 32,
      "outputs": [
        {
          "output_type": "execute_result",
          "data": {
            "text/html": [
              "<div>\n",
              "<style scoped>\n",
              "    .dataframe tbody tr th:only-of-type {\n",
              "        vertical-align: middle;\n",
              "    }\n",
              "\n",
              "    .dataframe tbody tr th {\n",
              "        vertical-align: top;\n",
              "    }\n",
              "\n",
              "    .dataframe thead th {\n",
              "        text-align: right;\n",
              "    }\n",
              "</style>\n",
              "<table border=\"1\" class=\"dataframe\">\n",
              "  <thead>\n",
              "    <tr style=\"text-align: right;\">\n",
              "      <th></th>\n",
              "      <th>2017</th>\n",
              "      <th>2018</th>\n",
              "      <th>2019</th>\n",
              "      <th>2020</th>\n",
              "    </tr>\n",
              "    <tr>\n",
              "      <th>Platform</th>\n",
              "      <th></th>\n",
              "      <th></th>\n",
              "      <th></th>\n",
              "      <th></th>\n",
              "    </tr>\n",
              "  </thead>\n",
              "  <tbody>\n",
              "    <tr>\n",
              "      <th>Android</th>\n",
              "      <td>1506</td>\n",
              "      <td>1563</td>\n",
              "      <td>2535</td>\n",
              "      <td>3619</td>\n",
              "    </tr>\n",
              "    <tr>\n",
              "      <th>iOS</th>\n",
              "      <td>941</td>\n",
              "      <td>893</td>\n",
              "      <td>1224</td>\n",
              "      <td>1792</td>\n",
              "    </tr>\n",
              "    <tr>\n",
              "      <th>Raspberry Pi</th>\n",
              "      <td>854</td>\n",
              "      <td>853</td>\n",
              "      <td>1411</td>\n",
              "      <td>2010</td>\n",
              "    </tr>\n",
              "    <tr>\n",
              "      <th>WordPress</th>\n",
              "      <td>743</td>\n",
              "      <td>856</td>\n",
              "      <td>1348</td>\n",
              "      <td>1934</td>\n",
              "    </tr>\n",
              "    <tr>\n",
              "      <th>Arduino</th>\n",
              "      <td>506</td>\n",
              "      <td>510</td>\n",
              "      <td>1039</td>\n",
              "      <td>1328</td>\n",
              "    </tr>\n",
              "  </tbody>\n",
              "</table>\n",
              "</div>"
            ],
            "text/plain": [
              "              2017  2018  2019  2020\n",
              "Platform                            \n",
              "Android       1506  1563  2535  3619\n",
              "iOS            941   893  1224  1792\n",
              "Raspberry Pi   854   853  1411  2010\n",
              "WordPress      743   856  1348  1934\n",
              "Arduino        506   510  1039  1328"
            ]
          },
          "metadata": {
            "tags": []
          },
          "execution_count": 32
        }
      ]
    },
    {
      "cell_type": "code",
      "metadata": {
        "id": "YjXMDNc286Fa",
        "colab_type": "code",
        "colab": {
          "base_uri": "https://localhost:8080/",
          "height": 584
        },
        "outputId": "6aeed12e-d651-49bc-a2a4-1fd0f9960fe7"
      },
      "source": [
        "(plats_merge/plats_merge.sum()).plot(kind='bar', title='Most Utilized Platforms from 2017-2020', figsize=(12,8))"
      ],
      "execution_count": 36,
      "outputs": [
        {
          "output_type": "execute_result",
          "data": {
            "text/plain": [
              "<matplotlib.axes._subplots.AxesSubplot at 0x7fa2b1c75fd0>"
            ]
          },
          "metadata": {
            "tags": []
          },
          "execution_count": 36
        },
        {
          "output_type": "display_data",
          "data": {
            "image/png": "[encoded data removed]",
            "text/plain": [
              "<Figure size 864x576 with 1 Axes>"
            ]
          },
          "metadata": {
            "tags": [],
            "needs_background": "light"
          }
        }
      ]
    },
    {
      "cell_type": "markdown",
      "metadata": {
        "id": "WjjZVgsI9cMt",
        "colab_type": "text"
      },
      "source": [
        "**CRISP-DM: Evaluation**\n",
        "\n",
        "From the bar plot, we can see that the most popular platforms over the past 4 years are mobile devices (iOS and Android), Internet of Things (IoT) devices, and blogging. However, is there some inherent bias in the presentation of the data?  Let's split the plot into two-year blocks."
      ]
    },
    {
      "cell_type": "code",
      "metadata": {
        "id": "CzFSUMhSI-gN",
        "colab_type": "code",
        "colab": {
          "base_uri": "https://localhost:8080/",
          "height": 600
        },
        "outputId": "f2a48683-cf22-4a0f-bc69-f5e811f73b50"
      },
      "source": [
        "ax = (plats_17_18/plats_17_18.sum()).plot(kind='bar', title='Most Utilized Platforms from 2017-2018', figsize=(12,8))\n",
        "ax.legend(['2017', '2018'])"
      ],
      "execution_count": 41,
      "outputs": [
        {
          "output_type": "execute_result",
          "data": {
            "text/plain": [
              "<matplotlib.legend.Legend at 0x7fa2bb3e7a20>"
            ]
          },
          "metadata": {
            "tags": []
          },
          "execution_count": 41
        },
        {
          "output_type": "display_data",
          "data": {
            "image/png": "[encoded data removed]",
            "text/plain": [
              "<Figure size 864x576 with 1 Axes>"
            ]
          },
          "metadata": {
            "tags": [],
            "needs_background": "light"
          }
        }
      ]
    },
    {
      "cell_type": "code",
      "metadata": {
        "id": "ATcVUL_NJIBH",
        "colab_type": "code",
        "colab": {
          "base_uri": "https://localhost:8080/",
          "height": 634
        },
        "outputId": "fd8c2d65-c413-4acd-9116-d98c035e5e3e"
      },
      "source": [
        "ax = (plats_19_20/plats_19_20.sum()).plot(kind='bar', title='Most Utilized Platforms from 2019-2020', figsize=(12,8))\n",
        "ax.legend(['2019', '2020'])"
      ],
      "execution_count": 42,
      "outputs": [
        {
          "output_type": "execute_result",
          "data": {
            "text/plain": [
              "<matplotlib.legend.Legend at 0x7fa2b19183c8>"
            ]
          },
          "metadata": {
            "tags": []
          },
          "execution_count": 42
        },
        {
          "output_type": "display_data",
          "data": {
            "image/png": "[encoded data removed]",
            "text/plain": [
              "<Figure size 864x576 with 1 Axes>"
            ]
          },
          "metadata": {
            "tags": [],
            "needs_background": "light"
          }
        }
      ]
    },
    {
      "cell_type": "markdown",
      "metadata": {
        "id": "oc1dV75OKCIb",
        "colab_type": "text"
      },
      "source": [
        "Now we can draw some better conclusions! The bar plot for 2017-2018 corresponds to our 4-year view, but there is a significant change in 2019 and 2020. It appears that server and cloud computing has overtaken mobile and IoT devices. Now we can accurately forecast changings within the community!"
      ]
    }
  ]
}