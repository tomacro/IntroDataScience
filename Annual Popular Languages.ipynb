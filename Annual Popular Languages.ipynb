{
  "nbformat": 4,
  "nbformat_minor": 0,
  "metadata": {
    "colab": {
      "name": "Untitled0.ipynb",
      "provenance": [],
      "authorship_tag": "ABX9TyNtbJv3FDXjBYVoHDpMyzGM"
    },
    "kernelspec": {
      "name": "python3",
      "display_name": "Python 3"
    }
  },
  "cells": [
    {
      "cell_type": "markdown",
      "metadata": {
        "id": "K4dfZ41Hsvq8",
        "colab_type": "text"
      },
      "source": [
        "Let's get started by investigating which programming languages developers are focusing on each year between 2015-2020."
      ]
    },
    {
      "cell_type": "code",
      "metadata": {
        "id": "EcYT6Hi_oMrD",
        "colab_type": "code",
        "colab": {}
      },
      "source": [
        "import pandas as pd\n",
        "import numpy as np\n",
        "import matplotlib.pyplot as plt\n",
        "\n",
        "#"
      ],
      "execution_count": null,
      "outputs": []
    }
  ]
}