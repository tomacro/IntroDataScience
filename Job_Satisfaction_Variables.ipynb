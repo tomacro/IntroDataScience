{
  "nbformat": 4,
  "nbformat_minor": 0,
  "metadata": {
    "colab": {
      "name": "Job Satisfaction Variables.ipynb",
      "provenance": [],
      "collapsed_sections": [],
      "authorship_tag": "ABX9TyOOrqdmExS4kBB+zeNnFnjm",
      "include_colab_link": true
    },
    "kernelspec": {
      "name": "python3",
      "display_name": "Python 3"
    }
  },
  "cells": [
    {
      "cell_type": "markdown",
      "metadata": {
        "id": "view-in-github",
        "colab_type": "text"
      },
      "source": [
        "<a href=\"https://colab.research.google.com/github/tomacro/IntroDataScience/blob/master/Job_Satisfaction_Variables.ipynb\" target=\"_parent\"><img src=\"https://colab.research.google.com/assets/colab-badge.svg\" alt=\"Open In Colab\"/></a>"
      ]
    },
    {
      "cell_type": "markdown",
      "metadata": {
        "id": "K4dfZ41Hsvq8",
        "colab_type": "text"
      },
      "source": [
        "We have done some analysis on popular languages and development platforms. Now let's look at a human aspect: job satisfaction. Using the survey results, we will look at some variables that each respondent gave about their job satisfaction. We will illustrate some principles of the CRISP-DM (Cross-industry standard process for data mining) model for our analysis as well."
      ]
    },
    {
      "cell_type": "code",
      "metadata": {
        "id": "EcYT6Hi_oMrD",
        "colab_type": "code",
        "colab": {}
      },
      "source": [
        "import pandas as pd\n",
        "import numpy as np\n",
        "import matplotlib.pyplot as plt\n",
        "\n",
        "# Using the Pandas, Numpy, and MatPlotLib libraries"
      ],
      "execution_count": 51,
      "outputs": []
    },
    {
      "cell_type": "markdown",
      "metadata": {
        "id": "vTycfwa3xAU-",
        "colab_type": "text"
      },
      "source": [
        "Now we will bring in the datasets from the targeted year."
      ]
    },
    {
      "cell_type": "code",
      "metadata": {
        "id": "D4KkStoDxIO0",
        "colab_type": "code",
        "colab": {}
      },
      "source": [
        "# Importing survey results\n",
        "df = pd.read_csv('data/2020_survey_results_public.csv')"
      ],
      "execution_count": 52,
      "outputs": []
    },
    {
      "cell_type": "code",
      "metadata": {
        "id": "jkFtk53Vx3FI",
        "colab_type": "code",
        "colab": {
          "base_uri": "https://localhost:8080/",
          "height": 643
        },
        "outputId": "6efe3d64-96b2-4e8a-aacf-b03091a0db85"
      },
      "source": [
        "df.head()"
      ],
      "execution_count": 53,
      "outputs": [
        {
          "output_type": "execute_result",
          "data": {
            "text/html": [
              "<div>\n",
              "<style scoped>\n",
              "    .dataframe tbody tr th:only-of-type {\n",
              "        vertical-align: middle;\n",
              "    }\n",
              "\n",
              "    .dataframe tbody tr th {\n",
              "        vertical-align: top;\n",
              "    }\n",
              "\n",
              "    .dataframe thead th {\n",
              "        text-align: right;\n",
              "    }\n",
              "</style>\n",
              "<table border=\"1\" class=\"dataframe\">\n",
              "  <thead>\n",
              "    <tr style=\"text-align: right;\">\n",
              "      <th></th>\n",
              "      <th>Respondent</th>\n",
              "      <th>MainBranch</th>\n",
              "      <th>Hobbyist</th>\n",
              "      <th>Age</th>\n",
              "      <th>Age1stCode</th>\n",
              "      <th>CompFreq</th>\n",
              "      <th>CompTotal</th>\n",
              "      <th>ConvertedComp</th>\n",
              "      <th>Country</th>\n",
              "      <th>CurrencyDesc</th>\n",
              "      <th>CurrencySymbol</th>\n",
              "      <th>DatabaseDesireNextYear</th>\n",
              "      <th>DatabaseWorkedWith</th>\n",
              "      <th>DevType</th>\n",
              "      <th>EdLevel</th>\n",
              "      <th>Employment</th>\n",
              "      <th>Ethnicity</th>\n",
              "      <th>Gender</th>\n",
              "      <th>JobFactors</th>\n",
              "      <th>JobSat</th>\n",
              "      <th>JobSeek</th>\n",
              "      <th>LanguageDesireNextYear</th>\n",
              "      <th>LanguageWorkedWith</th>\n",
              "      <th>MiscTechDesireNextYear</th>\n",
              "      <th>MiscTechWorkedWith</th>\n",
              "      <th>NEWCollabToolsDesireNextYear</th>\n",
              "      <th>NEWCollabToolsWorkedWith</th>\n",
              "      <th>NEWDevOps</th>\n",
              "      <th>NEWDevOpsImpt</th>\n",
              "      <th>NEWEdImpt</th>\n",
              "      <th>NEWJobHunt</th>\n",
              "      <th>NEWJobHuntResearch</th>\n",
              "      <th>NEWLearn</th>\n",
              "      <th>NEWOffTopic</th>\n",
              "      <th>NEWOnboardGood</th>\n",
              "      <th>NEWOtherComms</th>\n",
              "      <th>NEWOvertime</th>\n",
              "      <th>NEWPurchaseResearch</th>\n",
              "      <th>NEWPurpleLink</th>\n",
              "      <th>NEWSOSites</th>\n",
              "      <th>NEWStuck</th>\n",
              "      <th>OpSys</th>\n",
              "      <th>OrgSize</th>\n",
              "      <th>PlatformDesireNextYear</th>\n",
              "      <th>PlatformWorkedWith</th>\n",
              "      <th>PurchaseWhat</th>\n",
              "      <th>Sexuality</th>\n",
              "      <th>SOAccount</th>\n",
              "      <th>SOComm</th>\n",
              "      <th>SOPartFreq</th>\n",
              "      <th>SOVisitFreq</th>\n",
              "      <th>SurveyEase</th>\n",
              "      <th>SurveyLength</th>\n",
              "      <th>Trans</th>\n",
              "      <th>UndergradMajor</th>\n",
              "      <th>WebframeDesireNextYear</th>\n",
              "      <th>WebframeWorkedWith</th>\n",
              "      <th>WelcomeChange</th>\n",
              "      <th>WorkWeekHrs</th>\n",
              "      <th>YearsCode</th>\n",
              "      <th>YearsCodePro</th>\n",
              "    </tr>\n",
              "  </thead>\n",
              "  <tbody>\n",
              "    <tr>\n",
              "      <th>0</th>\n",
              "      <td>1</td>\n",
              "      <td>I am a developer by profession</td>\n",
              "      <td>Yes</td>\n",
              "      <td>NaN</td>\n",
              "      <td>13</td>\n",
              "      <td>Monthly</td>\n",
              "      <td>NaN</td>\n",
              "      <td>NaN</td>\n",
              "      <td>Germany</td>\n",
              "      <td>European Euro</td>\n",
              "      <td>EUR</td>\n",
              "      <td>Microsoft SQL Server</td>\n",
              "      <td>Elasticsearch;Microsoft SQL Server;Oracle</td>\n",
              "      <td>Developer, desktop or enterprise applications;...</td>\n",
              "      <td>Master’s degree (M.A., M.S., M.Eng., MBA, etc.)</td>\n",
              "      <td>Independent contractor, freelancer, or self-em...</td>\n",
              "      <td>White or of European descent</td>\n",
              "      <td>Man</td>\n",
              "      <td>Languages, frameworks, and other technologies ...</td>\n",
              "      <td>Slightly satisfied</td>\n",
              "      <td>I am not interested in new job opportunities</td>\n",
              "      <td>C#;HTML/CSS;JavaScript</td>\n",
              "      <td>C#;HTML/CSS;JavaScript</td>\n",
              "      <td>.NET Core;Xamarin</td>\n",
              "      <td>.NET;.NET Core</td>\n",
              "      <td>Microsoft Teams;Microsoft Azure;Trello</td>\n",
              "      <td>Confluence;Jira;Slack;Microsoft Azure;Trello</td>\n",
              "      <td>No</td>\n",
              "      <td>Somewhat important</td>\n",
              "      <td>Fairly important</td>\n",
              "      <td>NaN</td>\n",
              "      <td>NaN</td>\n",
              "      <td>Once a year</td>\n",
              "      <td>Not sure</td>\n",
              "      <td>NaN</td>\n",
              "      <td>No</td>\n",
              "      <td>Often: 1-2 days per week or more</td>\n",
              "      <td>Start a free trial;Ask developers I know/work ...</td>\n",
              "      <td>Amused</td>\n",
              "      <td>Stack Overflow (public Q&amp;A for anyone who codes)</td>\n",
              "      <td>Visit Stack Overflow;Go for a walk or other ph...</td>\n",
              "      <td>Windows</td>\n",
              "      <td>2 to 9 employees</td>\n",
              "      <td>Android;iOS;Kubernetes;Microsoft Azure;Windows</td>\n",
              "      <td>Windows</td>\n",
              "      <td>NaN</td>\n",
              "      <td>Straight / Heterosexual</td>\n",
              "      <td>No</td>\n",
              "      <td>No, not at all</td>\n",
              "      <td>NaN</td>\n",
              "      <td>Multiple times per day</td>\n",
              "      <td>Neither easy nor difficult</td>\n",
              "      <td>Appropriate in length</td>\n",
              "      <td>No</td>\n",
              "      <td>Computer science, computer engineering, or sof...</td>\n",
              "      <td>ASP.NET Core</td>\n",
              "      <td>ASP.NET;ASP.NET Core</td>\n",
              "      <td>Just as welcome now as I felt last year</td>\n",
              "      <td>50.0</td>\n",
              "      <td>36</td>\n",
              "      <td>27</td>\n",
              "    </tr>\n",
              "    <tr>\n",
              "      <th>1</th>\n",
              "      <td>2</td>\n",
              "      <td>I am a developer by profession</td>\n",
              "      <td>No</td>\n",
              "      <td>NaN</td>\n",
              "      <td>19</td>\n",
              "      <td>NaN</td>\n",
              "      <td>NaN</td>\n",
              "      <td>NaN</td>\n",
              "      <td>United Kingdom</td>\n",
              "      <td>Pound sterling</td>\n",
              "      <td>GBP</td>\n",
              "      <td>NaN</td>\n",
              "      <td>NaN</td>\n",
              "      <td>Developer, full-stack;Developer, mobile</td>\n",
              "      <td>Bachelor’s degree (B.A., B.S., B.Eng., etc.)</td>\n",
              "      <td>Employed full-time</td>\n",
              "      <td>NaN</td>\n",
              "      <td>NaN</td>\n",
              "      <td>NaN</td>\n",
              "      <td>Very dissatisfied</td>\n",
              "      <td>I am not interested in new job opportunities</td>\n",
              "      <td>Python;Swift</td>\n",
              "      <td>JavaScript;Swift</td>\n",
              "      <td>React Native;TensorFlow;Unity 3D</td>\n",
              "      <td>React Native</td>\n",
              "      <td>Github;Slack</td>\n",
              "      <td>Confluence;Jira;Github;Gitlab;Slack</td>\n",
              "      <td>NaN</td>\n",
              "      <td>NaN</td>\n",
              "      <td>Fairly important</td>\n",
              "      <td>NaN</td>\n",
              "      <td>NaN</td>\n",
              "      <td>Once a year</td>\n",
              "      <td>Not sure</td>\n",
              "      <td>NaN</td>\n",
              "      <td>No</td>\n",
              "      <td>NaN</td>\n",
              "      <td>NaN</td>\n",
              "      <td>Amused</td>\n",
              "      <td>Stack Overflow (public Q&amp;A for anyone who code...</td>\n",
              "      <td>Visit Stack Overflow;Go for a walk or other ph...</td>\n",
              "      <td>MacOS</td>\n",
              "      <td>1,000 to 4,999 employees</td>\n",
              "      <td>iOS;Kubernetes;Linux;MacOS</td>\n",
              "      <td>iOS</td>\n",
              "      <td>I have little or no influence</td>\n",
              "      <td>NaN</td>\n",
              "      <td>Yes</td>\n",
              "      <td>Yes, definitely</td>\n",
              "      <td>Less than once per month or monthly</td>\n",
              "      <td>Multiple times per day</td>\n",
              "      <td>NaN</td>\n",
              "      <td>NaN</td>\n",
              "      <td>NaN</td>\n",
              "      <td>Computer science, computer engineering, or sof...</td>\n",
              "      <td>NaN</td>\n",
              "      <td>NaN</td>\n",
              "      <td>Somewhat more welcome now than last year</td>\n",
              "      <td>NaN</td>\n",
              "      <td>7</td>\n",
              "      <td>4</td>\n",
              "    </tr>\n",
              "    <tr>\n",
              "      <th>2</th>\n",
              "      <td>3</td>\n",
              "      <td>I code primarily as a hobby</td>\n",
              "      <td>Yes</td>\n",
              "      <td>NaN</td>\n",
              "      <td>15</td>\n",
              "      <td>NaN</td>\n",
              "      <td>NaN</td>\n",
              "      <td>NaN</td>\n",
              "      <td>Russian Federation</td>\n",
              "      <td>NaN</td>\n",
              "      <td>NaN</td>\n",
              "      <td>NaN</td>\n",
              "      <td>NaN</td>\n",
              "      <td>NaN</td>\n",
              "      <td>NaN</td>\n",
              "      <td>NaN</td>\n",
              "      <td>NaN</td>\n",
              "      <td>NaN</td>\n",
              "      <td>NaN</td>\n",
              "      <td>NaN</td>\n",
              "      <td>NaN</td>\n",
              "      <td>Objective-C;Python;Swift</td>\n",
              "      <td>Objective-C;Python;Swift</td>\n",
              "      <td>NaN</td>\n",
              "      <td>NaN</td>\n",
              "      <td>NaN</td>\n",
              "      <td>NaN</td>\n",
              "      <td>NaN</td>\n",
              "      <td>NaN</td>\n",
              "      <td>NaN</td>\n",
              "      <td>NaN</td>\n",
              "      <td>NaN</td>\n",
              "      <td>Once a decade</td>\n",
              "      <td>NaN</td>\n",
              "      <td>NaN</td>\n",
              "      <td>No</td>\n",
              "      <td>NaN</td>\n",
              "      <td>NaN</td>\n",
              "      <td>NaN</td>\n",
              "      <td>Stack Overflow (public Q&amp;A for anyone who codes)</td>\n",
              "      <td>NaN</td>\n",
              "      <td>Linux-based</td>\n",
              "      <td>NaN</td>\n",
              "      <td>NaN</td>\n",
              "      <td>NaN</td>\n",
              "      <td>NaN</td>\n",
              "      <td>NaN</td>\n",
              "      <td>Yes</td>\n",
              "      <td>Yes, somewhat</td>\n",
              "      <td>A few times per month or weekly</td>\n",
              "      <td>Daily or almost daily</td>\n",
              "      <td>Neither easy nor difficult</td>\n",
              "      <td>Appropriate in length</td>\n",
              "      <td>NaN</td>\n",
              "      <td>NaN</td>\n",
              "      <td>NaN</td>\n",
              "      <td>NaN</td>\n",
              "      <td>Somewhat more welcome now than last year</td>\n",
              "      <td>NaN</td>\n",
              "      <td>4</td>\n",
              "      <td>NaN</td>\n",
              "    </tr>\n",
              "    <tr>\n",
              "      <th>3</th>\n",
              "      <td>4</td>\n",
              "      <td>I am a developer by profession</td>\n",
              "      <td>Yes</td>\n",
              "      <td>25.0</td>\n",
              "      <td>18</td>\n",
              "      <td>NaN</td>\n",
              "      <td>NaN</td>\n",
              "      <td>NaN</td>\n",
              "      <td>Albania</td>\n",
              "      <td>Albanian lek</td>\n",
              "      <td>ALL</td>\n",
              "      <td>NaN</td>\n",
              "      <td>NaN</td>\n",
              "      <td>NaN</td>\n",
              "      <td>Master’s degree (M.A., M.S., M.Eng., MBA, etc.)</td>\n",
              "      <td>NaN</td>\n",
              "      <td>White or of European descent</td>\n",
              "      <td>Man</td>\n",
              "      <td>Flex time or a flexible schedule;Office enviro...</td>\n",
              "      <td>Slightly dissatisfied</td>\n",
              "      <td>I’m not actively looking, but I am open to new...</td>\n",
              "      <td>NaN</td>\n",
              "      <td>NaN</td>\n",
              "      <td>NaN</td>\n",
              "      <td>NaN</td>\n",
              "      <td>NaN</td>\n",
              "      <td>NaN</td>\n",
              "      <td>No</td>\n",
              "      <td>NaN</td>\n",
              "      <td>Not at all important/not necessary</td>\n",
              "      <td>Curious about other opportunities;Wanting to w...</td>\n",
              "      <td>NaN</td>\n",
              "      <td>Once a year</td>\n",
              "      <td>Not sure</td>\n",
              "      <td>Yes</td>\n",
              "      <td>Yes</td>\n",
              "      <td>Occasionally: 1-2 days per quarter but less th...</td>\n",
              "      <td>NaN</td>\n",
              "      <td>NaN</td>\n",
              "      <td>Stack Overflow (public Q&amp;A for anyone who code...</td>\n",
              "      <td>NaN</td>\n",
              "      <td>Linux-based</td>\n",
              "      <td>20 to 99 employees</td>\n",
              "      <td>NaN</td>\n",
              "      <td>NaN</td>\n",
              "      <td>I have a great deal of influence</td>\n",
              "      <td>Straight / Heterosexual</td>\n",
              "      <td>Yes</td>\n",
              "      <td>Yes, definitely</td>\n",
              "      <td>A few times per month or weekly</td>\n",
              "      <td>Multiple times per day</td>\n",
              "      <td>NaN</td>\n",
              "      <td>NaN</td>\n",
              "      <td>No</td>\n",
              "      <td>Computer science, computer engineering, or sof...</td>\n",
              "      <td>NaN</td>\n",
              "      <td>NaN</td>\n",
              "      <td>Somewhat less welcome now than last year</td>\n",
              "      <td>40.0</td>\n",
              "      <td>7</td>\n",
              "      <td>4</td>\n",
              "    </tr>\n",
              "    <tr>\n",
              "      <th>4</th>\n",
              "      <td>5</td>\n",
              "      <td>I used to be a developer by profession, but no...</td>\n",
              "      <td>Yes</td>\n",
              "      <td>31.0</td>\n",
              "      <td>16</td>\n",
              "      <td>NaN</td>\n",
              "      <td>NaN</td>\n",
              "      <td>NaN</td>\n",
              "      <td>United States</td>\n",
              "      <td>NaN</td>\n",
              "      <td>NaN</td>\n",
              "      <td>MySQL;PostgreSQL</td>\n",
              "      <td>MySQL;PostgreSQL;Redis;SQLite</td>\n",
              "      <td>NaN</td>\n",
              "      <td>Bachelor’s degree (B.A., B.S., B.Eng., etc.)</td>\n",
              "      <td>Employed full-time</td>\n",
              "      <td>White or of European descent</td>\n",
              "      <td>Man</td>\n",
              "      <td>NaN</td>\n",
              "      <td>NaN</td>\n",
              "      <td>NaN</td>\n",
              "      <td>Java;Ruby;Scala</td>\n",
              "      <td>HTML/CSS;Ruby;SQL</td>\n",
              "      <td>Ansible;Chef</td>\n",
              "      <td>Ansible</td>\n",
              "      <td>Github;Google Suite (Docs, Meet, etc)</td>\n",
              "      <td>Confluence;Jira;Github;Slack;Google Suite (Doc...</td>\n",
              "      <td>NaN</td>\n",
              "      <td>NaN</td>\n",
              "      <td>Very important</td>\n",
              "      <td>NaN</td>\n",
              "      <td>NaN</td>\n",
              "      <td>Once a year</td>\n",
              "      <td>No</td>\n",
              "      <td>NaN</td>\n",
              "      <td>Yes</td>\n",
              "      <td>NaN</td>\n",
              "      <td>Start a free trial;Ask developers I know/work ...</td>\n",
              "      <td>Hello, old friend</td>\n",
              "      <td>Stack Overflow (public Q&amp;A for anyone who code...</td>\n",
              "      <td>Call a coworker or friend;Visit Stack Overflow...</td>\n",
              "      <td>Windows</td>\n",
              "      <td>NaN</td>\n",
              "      <td>Docker;Google Cloud Platform;Heroku;Linux;Windows</td>\n",
              "      <td>AWS;Docker;Linux;MacOS;Windows</td>\n",
              "      <td>NaN</td>\n",
              "      <td>Straight / Heterosexual</td>\n",
              "      <td>Yes</td>\n",
              "      <td>Yes, somewhat</td>\n",
              "      <td>Less than once per month or monthly</td>\n",
              "      <td>A few times per month or weekly</td>\n",
              "      <td>Easy</td>\n",
              "      <td>Too short</td>\n",
              "      <td>No</td>\n",
              "      <td>Computer science, computer engineering, or sof...</td>\n",
              "      <td>Django;Ruby on Rails</td>\n",
              "      <td>Ruby on Rails</td>\n",
              "      <td>Just as welcome now as I felt last year</td>\n",
              "      <td>NaN</td>\n",
              "      <td>15</td>\n",
              "      <td>8</td>\n",
              "    </tr>\n",
              "  </tbody>\n",
              "</table>\n",
              "</div>"
            ],
            "text/plain": [
              "   Respondent  ... YearsCodePro\n",
              "0           1  ...           27\n",
              "1           2  ...            4\n",
              "2           3  ...          NaN\n",
              "3           4  ...            4\n",
              "4           5  ...            8\n",
              "\n",
              "[5 rows x 61 columns]"
            ]
          },
          "metadata": {
            "tags": []
          },
          "execution_count": 53
        }
      ]
    },
    {
      "cell_type": "markdown",
      "metadata": {
        "id": "u-XXvePZynTf",
        "colab_type": "text"
      },
      "source": [
        "**CRISP-DM: Business Understanding**\n",
        "\n",
        "A happy workforce can be a productive workforce. But finding what makes your workforce happy can help shape the atmosphere within an organization.\n",
        "\n",
        "We will be looking at how career satisfaction, compensation, and overtime affects overall job satisfaction."
      ]
    },
    {
      "cell_type": "markdown",
      "metadata": {
        "id": "21BssopVzk4e",
        "colab_type": "text"
      },
      "source": [
        "**CRISP-DM: Data Understanding**"
      ]
    },
    {
      "cell_type": "code",
      "metadata": {
        "id": "15FPmJsNzrjt",
        "colab_type": "code",
        "colab": {
          "base_uri": "https://localhost:8080/",
          "height": 206
        },
        "outputId": "883b1bda-adce-4bb8-80e2-5892e9b16c20"
      },
      "source": [
        "df['JobSat'].value_counts().reset_index()"
      ],
      "execution_count": 54,
      "outputs": [
        {
          "output_type": "execute_result",
          "data": {
            "text/html": [
              "<div>\n",
              "<style scoped>\n",
              "    .dataframe tbody tr th:only-of-type {\n",
              "        vertical-align: middle;\n",
              "    }\n",
              "\n",
              "    .dataframe tbody tr th {\n",
              "        vertical-align: top;\n",
              "    }\n",
              "\n",
              "    .dataframe thead th {\n",
              "        text-align: right;\n",
              "    }\n",
              "</style>\n",
              "<table border=\"1\" class=\"dataframe\">\n",
              "  <thead>\n",
              "    <tr style=\"text-align: right;\">\n",
              "      <th></th>\n",
              "      <th>index</th>\n",
              "      <th>JobSat</th>\n",
              "    </tr>\n",
              "  </thead>\n",
              "  <tbody>\n",
              "    <tr>\n",
              "      <th>0</th>\n",
              "      <td>Very satisfied</td>\n",
              "      <td>14611</td>\n",
              "    </tr>\n",
              "    <tr>\n",
              "      <th>1</th>\n",
              "      <td>Slightly satisfied</td>\n",
              "      <td>13930</td>\n",
              "    </tr>\n",
              "    <tr>\n",
              "      <th>2</th>\n",
              "      <td>Slightly dissatisfied</td>\n",
              "      <td>7124</td>\n",
              "    </tr>\n",
              "    <tr>\n",
              "      <th>3</th>\n",
              "      <td>Neither satisfied nor dissatisfied</td>\n",
              "      <td>5783</td>\n",
              "    </tr>\n",
              "    <tr>\n",
              "      <th>4</th>\n",
              "      <td>Very dissatisfied</td>\n",
              "      <td>3746</td>\n",
              "    </tr>\n",
              "  </tbody>\n",
              "</table>\n",
              "</div>"
            ],
            "text/plain": [
              "                                index  JobSat\n",
              "0                      Very satisfied   14611\n",
              "1                  Slightly satisfied   13930\n",
              "2               Slightly dissatisfied    7124\n",
              "3  Neither satisfied nor dissatisfied    5783\n",
              "4                   Very dissatisfied    3746"
            ]
          },
          "metadata": {
            "tags": []
          },
          "execution_count": 54
        }
      ]
    },
    {
      "cell_type": "markdown",
      "metadata": {
        "id": "B2U4ocai0kFG",
        "colab_type": "text"
      },
      "source": [
        "While a majority of respondents are satisfied at some level with their positions, we still need to find out if our selected factors have any relation."
      ]
    },
    {
      "cell_type": "code",
      "metadata": {
        "id": "jpKuU3Seh1MQ",
        "colab_type": "code",
        "colab": {
          "base_uri": "https://localhost:8080/",
          "height": 206
        },
        "outputId": "355db4e9-2058-4f77-c75c-7066f7170713"
      },
      "source": [
        "df['NEWOvertime'].value_counts().reset_index()"
      ],
      "execution_count": 80,
      "outputs": [
        {
          "output_type": "execute_result",
          "data": {
            "text/html": [
              "<div>\n",
              "<style scoped>\n",
              "    .dataframe tbody tr th:only-of-type {\n",
              "        vertical-align: middle;\n",
              "    }\n",
              "\n",
              "    .dataframe tbody tr th {\n",
              "        vertical-align: top;\n",
              "    }\n",
              "\n",
              "    .dataframe thead th {\n",
              "        text-align: right;\n",
              "    }\n",
              "</style>\n",
              "<table border=\"1\" class=\"dataframe\">\n",
              "  <thead>\n",
              "    <tr style=\"text-align: right;\">\n",
              "      <th></th>\n",
              "      <th>index</th>\n",
              "      <th>NEWOvertime</th>\n",
              "    </tr>\n",
              "  </thead>\n",
              "  <tbody>\n",
              "    <tr>\n",
              "      <th>0</th>\n",
              "      <td>Sometimes: 1-2 days per month but less than we...</td>\n",
              "      <td>11547</td>\n",
              "    </tr>\n",
              "    <tr>\n",
              "      <th>1</th>\n",
              "      <td>Often: 1-2 days per week or more</td>\n",
              "      <td>11027</td>\n",
              "    </tr>\n",
              "    <tr>\n",
              "      <th>2</th>\n",
              "      <td>Occasionally: 1-2 days per quarter but less th...</td>\n",
              "      <td>9468</td>\n",
              "    </tr>\n",
              "    <tr>\n",
              "      <th>3</th>\n",
              "      <td>Rarely: 1-2 days per year or less</td>\n",
              "      <td>6471</td>\n",
              "    </tr>\n",
              "    <tr>\n",
              "      <th>4</th>\n",
              "      <td>Never</td>\n",
              "      <td>4718</td>\n",
              "    </tr>\n",
              "  </tbody>\n",
              "</table>\n",
              "</div>"
            ],
            "text/plain": [
              "                                               index  NEWOvertime\n",
              "0  Sometimes: 1-2 days per month but less than we...        11547\n",
              "1                   Often: 1-2 days per week or more        11027\n",
              "2  Occasionally: 1-2 days per quarter but less th...         9468\n",
              "3                  Rarely: 1-2 days per year or less         6471\n",
              "4                                              Never         4718"
            ]
          },
          "metadata": {
            "tags": []
          },
          "execution_count": 80
        }
      ]
    },
    {
      "cell_type": "markdown",
      "metadata": {
        "id": "I7P3_Rjk02Jk",
        "colab_type": "text"
      },
      "source": [
        "**CRISP-DM: Data Preparation**\n",
        "\n",
        "Before we can analyze the data, it must be prepared and cleaned. Let's start by converting the textual responses into a number for ease of future visualization."
      ]
    },
    {
      "cell_type": "code",
      "metadata": {
        "id": "bYfgaogy1R9B",
        "colab_type": "code",
        "colab": {}
      },
      "source": [
        "data_convert = {\"JobSat\": {\"Very satisfied\": 5, \"Slightly satisfied\": 4, \n",
        "                              \"Neither satisfied nor dissatisfied\": 3, \n",
        "                              \"Slightly dissatisfied\": 2, \"Very dissatisfied\": 1},\n",
        "                \"OrgSize\": {\"10,000 or more employees\": 9, \"5,000 to 9,999 employees\":\n",
        "                8, \"1,000 to 4,999 employees\": 7, \"500 to 999 employees\": 6, \n",
        "                \"100 to 499 employees\": 5, \"20 to 99 employees\": 4, \n",
        "                \"10 to 19 employees\": 3, \"2 to 9 employees\": 2, \n",
        "                \"Just me - I am a freelancer, sole proprietor, etc.\": 1},\n",
        "                \"NEWOvertime\": {\"Never\": 5, \"Rarely: 1-2 days per year or less\": 4, \n",
        "                 \"Sometimes: 1-2 days per month but less than weekly\": 3, \n",
        "                 \"Occasionally: 1-2 days per quarter but less than monthly\": 2, \n",
        "                 \"Often: 1-2 days per week or more\": 1}\n",
        "                }\n",
        "df_convert = df.replace(data_convert)"
      ],
      "execution_count": 89,
      "outputs": []
    },
    {
      "cell_type": "markdown",
      "metadata": {
        "id": "zMpQBE3n2K0x",
        "colab_type": "text"
      },
      "source": [
        "Now that we have a function that can effectively process our data to get it into the format that we need, let's build the variables we need for our analysis."
      ]
    },
    {
      "cell_type": "code",
      "metadata": {
        "id": "QBHWJgoH2Vjv",
        "colab_type": "code",
        "colab": {
          "base_uri": "https://localhost:8080/",
          "height": 237
        },
        "outputId": "a2e8f1f9-43b7-454e-ec19-8a03c9467702"
      },
      "source": [
        "# Computing the average compensation based upon job satisfaction\n",
        "converted_comp = df_convert.groupby(['JobSat']).mean()['ConvertedComp'].sort_values().reset_index()\n",
        "converted_comp.set_index('JobSat', inplace=True)\n",
        "converted_comp.sort_values(by=['JobSat'], ascending = False)"
      ],
      "execution_count": 90,
      "outputs": [
        {
          "output_type": "execute_result",
          "data": {
            "text/html": [
              "<div>\n",
              "<style scoped>\n",
              "    .dataframe tbody tr th:only-of-type {\n",
              "        vertical-align: middle;\n",
              "    }\n",
              "\n",
              "    .dataframe tbody tr th {\n",
              "        vertical-align: top;\n",
              "    }\n",
              "\n",
              "    .dataframe thead th {\n",
              "        text-align: right;\n",
              "    }\n",
              "</style>\n",
              "<table border=\"1\" class=\"dataframe\">\n",
              "  <thead>\n",
              "    <tr style=\"text-align: right;\">\n",
              "      <th></th>\n",
              "      <th>ConvertedComp</th>\n",
              "    </tr>\n",
              "    <tr>\n",
              "      <th>JobSat</th>\n",
              "      <th></th>\n",
              "    </tr>\n",
              "  </thead>\n",
              "  <tbody>\n",
              "    <tr>\n",
              "      <th>5.0</th>\n",
              "      <td>119251.118370</td>\n",
              "    </tr>\n",
              "    <tr>\n",
              "      <th>4.0</th>\n",
              "      <td>97914.980343</td>\n",
              "    </tr>\n",
              "    <tr>\n",
              "      <th>3.0</th>\n",
              "      <td>91748.645352</td>\n",
              "    </tr>\n",
              "    <tr>\n",
              "      <th>2.0</th>\n",
              "      <td>95691.666029</td>\n",
              "    </tr>\n",
              "    <tr>\n",
              "      <th>1.0</th>\n",
              "      <td>98499.218481</td>\n",
              "    </tr>\n",
              "  </tbody>\n",
              "</table>\n",
              "</div>"
            ],
            "text/plain": [
              "        ConvertedComp\n",
              "JobSat               \n",
              "5.0     119251.118370\n",
              "4.0      97914.980343\n",
              "3.0      91748.645352\n",
              "2.0      95691.666029\n",
              "1.0      98499.218481"
            ]
          },
          "metadata": {
            "tags": []
          },
          "execution_count": 90
        }
      ]
    },
    {
      "cell_type": "markdown",
      "metadata": {
        "id": "rTCkXRO46Fx6",
        "colab_type": "text"
      },
      "source": [
        "While highest job satisfaction does have the highest average salary, all of the other values still have fairly high compensation values as well. Let's bring in a few more variables."
      ]
    },
    {
      "cell_type": "code",
      "metadata": {
        "id": "u6KOB0xj6rzc",
        "colab_type": "code",
        "colab": {
          "base_uri": "https://localhost:8080/",
          "height": 237
        },
        "outputId": "22235322-50d6-47fb-ec30-01284d9be856"
      },
      "source": [
        "org_size = df_convert.groupby(['JobSat']).mean()['OrgSize'].sort_values().reset_index()\n",
        "org_size.set_index('JobSat', inplace=True)\n",
        "org_size.sort_values(by=['JobSat'], ascending = False)"
      ],
      "execution_count": 91,
      "outputs": [
        {
          "output_type": "execute_result",
          "data": {
            "text/html": [
              "<div>\n",
              "<style scoped>\n",
              "    .dataframe tbody tr th:only-of-type {\n",
              "        vertical-align: middle;\n",
              "    }\n",
              "\n",
              "    .dataframe tbody tr th {\n",
              "        vertical-align: top;\n",
              "    }\n",
              "\n",
              "    .dataframe thead th {\n",
              "        text-align: right;\n",
              "    }\n",
              "</style>\n",
              "<table border=\"1\" class=\"dataframe\">\n",
              "  <thead>\n",
              "    <tr style=\"text-align: right;\">\n",
              "      <th></th>\n",
              "      <th>OrgSize</th>\n",
              "    </tr>\n",
              "    <tr>\n",
              "      <th>JobSat</th>\n",
              "      <th></th>\n",
              "    </tr>\n",
              "  </thead>\n",
              "  <tbody>\n",
              "    <tr>\n",
              "      <th>5.0</th>\n",
              "      <td>5.021448</td>\n",
              "    </tr>\n",
              "    <tr>\n",
              "      <th>4.0</th>\n",
              "      <td>5.118858</td>\n",
              "    </tr>\n",
              "    <tr>\n",
              "      <th>3.0</th>\n",
              "      <td>4.955623</td>\n",
              "    </tr>\n",
              "    <tr>\n",
              "      <th>2.0</th>\n",
              "      <td>5.184437</td>\n",
              "    </tr>\n",
              "    <tr>\n",
              "      <th>1.0</th>\n",
              "      <td>4.954384</td>\n",
              "    </tr>\n",
              "  </tbody>\n",
              "</table>\n",
              "</div>"
            ],
            "text/plain": [
              "         OrgSize\n",
              "JobSat          \n",
              "5.0     5.021448\n",
              "4.0     5.118858\n",
              "3.0     4.955623\n",
              "2.0     5.184437\n",
              "1.0     4.954384"
            ]
          },
          "metadata": {
            "tags": []
          },
          "execution_count": 91
        }
      ]
    },
    {
      "cell_type": "markdown",
      "metadata": {
        "id": "fr20JK7-kp3E",
        "colab_type": "text"
      },
      "source": [
        "Job Satisfaction does appear to change based upon size of the organization. The average sized-company appears to be between 10 and 100 people."
      ]
    },
    {
      "cell_type": "code",
      "metadata": {
        "id": "rieb5OXB6X9i",
        "colab_type": "code",
        "colab": {
          "base_uri": "https://localhost:8080/",
          "height": 237
        },
        "outputId": "04d5aa01-a907-4f6a-d0a1-98c1311b86ce"
      },
      "source": [
        "overtime = df_convert.groupby(['JobSat']).mean()['NEWOvertime'].sort_values().reset_index()\n",
        "overtime.set_index('JobSat', inplace=True)\n",
        "overtime.sort_values(by=['JobSat'], ascending = False)"
      ],
      "execution_count": 92,
      "outputs": [
        {
          "output_type": "execute_result",
          "data": {
            "text/html": [
              "<div>\n",
              "<style scoped>\n",
              "    .dataframe tbody tr th:only-of-type {\n",
              "        vertical-align: middle;\n",
              "    }\n",
              "\n",
              "    .dataframe tbody tr th {\n",
              "        vertical-align: top;\n",
              "    }\n",
              "\n",
              "    .dataframe thead th {\n",
              "        text-align: right;\n",
              "    }\n",
              "</style>\n",
              "<table border=\"1\" class=\"dataframe\">\n",
              "  <thead>\n",
              "    <tr style=\"text-align: right;\">\n",
              "      <th></th>\n",
              "      <th>NEWOvertime</th>\n",
              "    </tr>\n",
              "    <tr>\n",
              "      <th>JobSat</th>\n",
              "      <th></th>\n",
              "    </tr>\n",
              "  </thead>\n",
              "  <tbody>\n",
              "    <tr>\n",
              "      <th>5.0</th>\n",
              "      <td>2.619782</td>\n",
              "    </tr>\n",
              "    <tr>\n",
              "      <th>4.0</th>\n",
              "      <td>2.646613</td>\n",
              "    </tr>\n",
              "    <tr>\n",
              "      <th>3.0</th>\n",
              "      <td>2.664222</td>\n",
              "    </tr>\n",
              "    <tr>\n",
              "      <th>2.0</th>\n",
              "      <td>2.624144</td>\n",
              "    </tr>\n",
              "    <tr>\n",
              "      <th>1.0</th>\n",
              "      <td>2.661948</td>\n",
              "    </tr>\n",
              "  </tbody>\n",
              "</table>\n",
              "</div>"
            ],
            "text/plain": [
              "        NEWOvertime\n",
              "JobSat             \n",
              "5.0        2.619782\n",
              "4.0        2.646613\n",
              "3.0        2.664222\n",
              "2.0        2.624144\n",
              "1.0        2.661948"
            ]
          },
          "metadata": {
            "tags": []
          },
          "execution_count": 92
        }
      ]
    },
    {
      "cell_type": "markdown",
      "metadata": {
        "id": "gAgDHwP6nbnF",
        "colab_type": "text"
      },
      "source": [
        "Interestingly enough, job satisfaction does not seem to be influenced by overtime.\n",
        "\n",
        "Now we will combine the dataframes to view the information together and the build our graphs."
      ]
    },
    {
      "cell_type": "code",
      "metadata": {
        "id": "mdxnWimqnpbG",
        "colab_type": "code",
        "colab": {
          "base_uri": "https://localhost:8080/",
          "height": 237
        },
        "outputId": "f34a19b8-bf2f-4ec8-edb9-360b4a46a4b3"
      },
      "source": [
        "comp_orgsize = pd.merge(converted_comp, org_size, on='JobSat')\n",
        "comp_orgsize_otime = pd.merge(comp_orgsize, overtime, on='JobSat')\n",
        "comp_orgsize_otime.sort_values(by=['JobSat'], ascending = False)"
      ],
      "execution_count": 126,
      "outputs": [
        {
          "output_type": "execute_result",
          "data": {
            "text/html": [
              "<div>\n",
              "<style scoped>\n",
              "    .dataframe tbody tr th:only-of-type {\n",
              "        vertical-align: middle;\n",
              "    }\n",
              "\n",
              "    .dataframe tbody tr th {\n",
              "        vertical-align: top;\n",
              "    }\n",
              "\n",
              "    .dataframe thead th {\n",
              "        text-align: right;\n",
              "    }\n",
              "</style>\n",
              "<table border=\"1\" class=\"dataframe\">\n",
              "  <thead>\n",
              "    <tr style=\"text-align: right;\">\n",
              "      <th></th>\n",
              "      <th>ConvertedComp</th>\n",
              "      <th>OrgSize</th>\n",
              "      <th>NEWOvertime</th>\n",
              "    </tr>\n",
              "    <tr>\n",
              "      <th>JobSat</th>\n",
              "      <th></th>\n",
              "      <th></th>\n",
              "      <th></th>\n",
              "    </tr>\n",
              "  </thead>\n",
              "  <tbody>\n",
              "    <tr>\n",
              "      <th>5.0</th>\n",
              "      <td>119251.118370</td>\n",
              "      <td>5.021448</td>\n",
              "      <td>2.619782</td>\n",
              "    </tr>\n",
              "    <tr>\n",
              "      <th>4.0</th>\n",
              "      <td>97914.980343</td>\n",
              "      <td>5.118858</td>\n",
              "      <td>2.646613</td>\n",
              "    </tr>\n",
              "    <tr>\n",
              "      <th>3.0</th>\n",
              "      <td>91748.645352</td>\n",
              "      <td>4.955623</td>\n",
              "      <td>2.664222</td>\n",
              "    </tr>\n",
              "    <tr>\n",
              "      <th>2.0</th>\n",
              "      <td>95691.666029</td>\n",
              "      <td>5.184437</td>\n",
              "      <td>2.624144</td>\n",
              "    </tr>\n",
              "    <tr>\n",
              "      <th>1.0</th>\n",
              "      <td>98499.218481</td>\n",
              "      <td>4.954384</td>\n",
              "      <td>2.661948</td>\n",
              "    </tr>\n",
              "  </tbody>\n",
              "</table>\n",
              "</div>"
            ],
            "text/plain": [
              "        ConvertedComp   OrgSize  NEWOvertime\n",
              "JobSat                                      \n",
              "5.0     119251.118370  5.021448     2.619782\n",
              "4.0      97914.980343  5.118858     2.646613\n",
              "3.0      91748.645352  4.955623     2.664222\n",
              "2.0      95691.666029  5.184437     2.624144\n",
              "1.0      98499.218481  4.954384     2.661948"
            ]
          },
          "metadata": {
            "tags": []
          },
          "execution_count": 126
        }
      ]
    },
    {
      "cell_type": "code",
      "metadata": {
        "id": "zp2bN2xkolCK",
        "colab_type": "code",
        "colab": {}
      },
      "source": [
        "comp_orgsize_otime['ConvertedComp'] = (comp_orgsize_otime['ConvertedComp'] - comp_orgsize_otime['ConvertedComp'].mean())/comp_orgsize_otime['ConvertedComp'].sum()\n",
        "comp_orgsize_otime['OrgSize'] = comp_orgsize_otime['OrgSize'] - comp_orgsize_otime['OrgSize'].mean()\n",
        "comp_orgsize_otime['NEWOvertime'] = comp_orgsize_otime['NEWOvertime'] - comp_orgsize_otime['NEWOvertime'].mean()"
      ],
      "execution_count": 127,
      "outputs": []
    },
    {
      "cell_type": "code",
      "metadata": {
        "id": "0cFt8AkQsErt",
        "colab_type": "code",
        "colab": {
          "base_uri": "https://localhost:8080/",
          "height": 516
        },
        "outputId": "fa248f37-3596-4957-d2ea-0d4eb0e6ac5d"
      },
      "source": [
        "(comp_orgsize_otime).plot(kind='barh',\n",
        "                         title='Comparing Salary, Organization Size, and Overtime to Job Satisfaction',\n",
        "                         figsize=(12,8))\n",
        "\n",
        "for i in [-0.1, -0.05, 0.05, 0.1, 0.15]:\n",
        "    plt.axvline(x=i, color='lightgrey')\n",
        "plt.axvline(x=0, color='black')"
      ],
      "execution_count": 131,
      "outputs": [
        {
          "output_type": "execute_result",
          "data": {
            "text/plain": [
              "<matplotlib.lines.Line2D at 0x7fc5a7bf8668>"
            ]
          },
          "metadata": {
            "tags": []
          },
          "execution_count": 131
        },
        {
          "output_type": "display_data",
          "data": {
            "image/png": "[encoded data removed]",
            "text/plain": [
              "<Figure size 864x576 with 1 Axes>"
            ]
          },
          "metadata": {
            "tags": [],
            "needs_background": "light"
          }
        }
      ]
    },
    {
      "cell_type": "markdown",
      "metadata": {
        "id": "WjjZVgsI9cMt",
        "colab_type": "text"
      },
      "source": [
        "**CRISP-DM: Evaluation**\n",
        "From the horizontal bar plot, we can draw some conclusions from our data. There appears to be some interesting negative and positive correlations for organization side, but salary and overtime do not necessary affect job satisfaction as much as one may suspect."
      ]
    }
  ]
}