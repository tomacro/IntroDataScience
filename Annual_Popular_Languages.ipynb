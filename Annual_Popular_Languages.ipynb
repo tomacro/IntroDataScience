{
  "nbformat": 4,
  "nbformat_minor": 0,
  "metadata": {
    "colab": {
      "name": "Annual Popular Languages.ipynb",
      "provenance": [],
      "collapsed_sections": [],
      "authorship_tag": "ABX9TyMnTWh6qmqjI0/XZQJM4i5F",
      "include_colab_link": true
    },
    "kernelspec": {
      "name": "python3",
      "display_name": "Python 3"
    }
  },
  "cells": [
    {
      "cell_type": "markdown",
      "metadata": {
        "id": "view-in-github",
        "colab_type": "text"
      },
      "source": [
        "<a href=\"https://colab.research.google.com/github/tomacro/IntroDataScience/blob/master/Annual_Popular_Languages.ipynb\" target=\"_parent\"><img src=\"https://colab.research.google.com/assets/colab-badge.svg\" alt=\"Open In Colab\"/></a>"
      ]
    },
    {
      "cell_type": "markdown",
      "metadata": {
        "id": "K4dfZ41Hsvq8",
        "colab_type": "text"
      },
      "source": [
        "Let's get started by investigating which programming languages developers are focusing on each year between 2017-2020. We will illustrate some principles of the CRISP-DM (Cross-industry standard process for data mining) model for our analysis as well."
      ]
    },
    {
      "cell_type": "code",
      "metadata": {
        "id": "EcYT6Hi_oMrD",
        "colab_type": "code",
        "colab": {}
      },
      "source": [
        "import pandas as pd\n",
        "import numpy as np\n",
        "import matplotlib.pyplot as plt\n",
        "from collections import defaultdict\n",
        "\n",
        "# Using the Pandas, Numpy, and MatPlotLib libraries"
      ],
      "execution_count": 34,
      "outputs": []
    },
    {
      "cell_type": "markdown",
      "metadata": {
        "id": "vTycfwa3xAU-",
        "colab_type": "text"
      },
      "source": [
        "Now we will bring in the datasets from the appropriate years."
      ]
    },
    {
      "cell_type": "code",
      "metadata": {
        "id": "D4KkStoDxIO0",
        "colab_type": "code",
        "colab": {}
      },
      "source": [
        "# Importing survey results\n",
        "df_17 = pd.read_csv('data/2017_survey_results_public.csv')\n",
        "df_18 = pd.read_csv('data/2018_survey_results_public.csv')\n",
        "df_19 = pd.read_csv('data/2019_survey_results_public.csv')\n",
        "df_20 = pd.read_csv('data/2020_survey_results_public.csv')\n",
        "\n",
        "# Importing survey schema\n",
        "schema_17 = pd.read_csv('data/2017_survey_results_schema.csv')\n",
        "schema_18 = pd.read_csv('data/2018_survey_results_schema.csv')\n",
        "schema_19 = pd.read_csv('data/2019_survey_results_schema.csv')\n",
        "schema_20 = pd.read_csv('data/2020_survey_results_schema.csv')"
      ],
      "execution_count": 3,
      "outputs": []
    },
    {
      "cell_type": "code",
      "metadata": {
        "id": "jkFtk53Vx3FI",
        "colab_type": "code",
        "colab": {
          "base_uri": "https://localhost:8080/",
          "height": 643
        },
        "outputId": "6df4d765-d125-4f2f-8bdb-748bd0d2c06a"
      },
      "source": [
        "df_20.head()"
      ],
      "execution_count": 7,
      "outputs": [
        {
          "output_type": "execute_result",
          "data": {
            "text/html": [
              "<div>\n",
              "<style scoped>\n",
              "    .dataframe tbody tr th:only-of-type {\n",
              "        vertical-align: middle;\n",
              "    }\n",
              "\n",
              "    .dataframe tbody tr th {\n",
              "        vertical-align: top;\n",
              "    }\n",
              "\n",
              "    .dataframe thead th {\n",
              "        text-align: right;\n",
              "    }\n",
              "</style>\n",
              "<table border=\"1\" class=\"dataframe\">\n",
              "  <thead>\n",
              "    <tr style=\"text-align: right;\">\n",
              "      <th></th>\n",
              "      <th>Respondent</th>\n",
              "      <th>MainBranch</th>\n",
              "      <th>Hobbyist</th>\n",
              "      <th>Age</th>\n",
              "      <th>Age1stCode</th>\n",
              "      <th>CompFreq</th>\n",
              "      <th>CompTotal</th>\n",
              "      <th>ConvertedComp</th>\n",
              "      <th>Country</th>\n",
              "      <th>CurrencyDesc</th>\n",
              "      <th>CurrencySymbol</th>\n",
              "      <th>DatabaseDesireNextYear</th>\n",
              "      <th>DatabaseWorkedWith</th>\n",
              "      <th>DevType</th>\n",
              "      <th>EdLevel</th>\n",
              "      <th>Employment</th>\n",
              "      <th>Ethnicity</th>\n",
              "      <th>Gender</th>\n",
              "      <th>JobFactors</th>\n",
              "      <th>JobSat</th>\n",
              "      <th>JobSeek</th>\n",
              "      <th>LanguageDesireNextYear</th>\n",
              "      <th>LanguageWorkedWith</th>\n",
              "      <th>MiscTechDesireNextYear</th>\n",
              "      <th>MiscTechWorkedWith</th>\n",
              "      <th>NEWCollabToolsDesireNextYear</th>\n",
              "      <th>NEWCollabToolsWorkedWith</th>\n",
              "      <th>NEWDevOps</th>\n",
              "      <th>NEWDevOpsImpt</th>\n",
              "      <th>NEWEdImpt</th>\n",
              "      <th>NEWJobHunt</th>\n",
              "      <th>NEWJobHuntResearch</th>\n",
              "      <th>NEWLearn</th>\n",
              "      <th>NEWOffTopic</th>\n",
              "      <th>NEWOnboardGood</th>\n",
              "      <th>NEWOtherComms</th>\n",
              "      <th>NEWOvertime</th>\n",
              "      <th>NEWPurchaseResearch</th>\n",
              "      <th>NEWPurpleLink</th>\n",
              "      <th>NEWSOSites</th>\n",
              "      <th>NEWStuck</th>\n",
              "      <th>OpSys</th>\n",
              "      <th>OrgSize</th>\n",
              "      <th>PlatformDesireNextYear</th>\n",
              "      <th>PlatformWorkedWith</th>\n",
              "      <th>PurchaseWhat</th>\n",
              "      <th>Sexuality</th>\n",
              "      <th>SOAccount</th>\n",
              "      <th>SOComm</th>\n",
              "      <th>SOPartFreq</th>\n",
              "      <th>SOVisitFreq</th>\n",
              "      <th>SurveyEase</th>\n",
              "      <th>SurveyLength</th>\n",
              "      <th>Trans</th>\n",
              "      <th>UndergradMajor</th>\n",
              "      <th>WebframeDesireNextYear</th>\n",
              "      <th>WebframeWorkedWith</th>\n",
              "      <th>WelcomeChange</th>\n",
              "      <th>WorkWeekHrs</th>\n",
              "      <th>YearsCode</th>\n",
              "      <th>YearsCodePro</th>\n",
              "    </tr>\n",
              "  </thead>\n",
              "  <tbody>\n",
              "    <tr>\n",
              "      <th>0</th>\n",
              "      <td>1</td>\n",
              "      <td>I am a developer by profession</td>\n",
              "      <td>Yes</td>\n",
              "      <td>NaN</td>\n",
              "      <td>13</td>\n",
              "      <td>Monthly</td>\n",
              "      <td>NaN</td>\n",
              "      <td>NaN</td>\n",
              "      <td>Germany</td>\n",
              "      <td>European Euro</td>\n",
              "      <td>EUR</td>\n",
              "      <td>Microsoft SQL Server</td>\n",
              "      <td>Elasticsearch;Microsoft SQL Server;Oracle</td>\n",
              "      <td>Developer, desktop or enterprise applications;...</td>\n",
              "      <td>Master’s degree (M.A., M.S., M.Eng., MBA, etc.)</td>\n",
              "      <td>Independent contractor, freelancer, or self-em...</td>\n",
              "      <td>White or of European descent</td>\n",
              "      <td>Man</td>\n",
              "      <td>Languages, frameworks, and other technologies ...</td>\n",
              "      <td>Slightly satisfied</td>\n",
              "      <td>I am not interested in new job opportunities</td>\n",
              "      <td>C#;HTML/CSS;JavaScript</td>\n",
              "      <td>C#;HTML/CSS;JavaScript</td>\n",
              "      <td>.NET Core;Xamarin</td>\n",
              "      <td>.NET;.NET Core</td>\n",
              "      <td>Microsoft Teams;Microsoft Azure;Trello</td>\n",
              "      <td>Confluence;Jira;Slack;Microsoft Azure;Trello</td>\n",
              "      <td>No</td>\n",
              "      <td>Somewhat important</td>\n",
              "      <td>Fairly important</td>\n",
              "      <td>NaN</td>\n",
              "      <td>NaN</td>\n",
              "      <td>Once a year</td>\n",
              "      <td>Not sure</td>\n",
              "      <td>NaN</td>\n",
              "      <td>No</td>\n",
              "      <td>Often: 1-2 days per week or more</td>\n",
              "      <td>Start a free trial;Ask developers I know/work ...</td>\n",
              "      <td>Amused</td>\n",
              "      <td>Stack Overflow (public Q&amp;A for anyone who codes)</td>\n",
              "      <td>Visit Stack Overflow;Go for a walk or other ph...</td>\n",
              "      <td>Windows</td>\n",
              "      <td>2 to 9 employees</td>\n",
              "      <td>Android;iOS;Kubernetes;Microsoft Azure;Windows</td>\n",
              "      <td>Windows</td>\n",
              "      <td>NaN</td>\n",
              "      <td>Straight / Heterosexual</td>\n",
              "      <td>No</td>\n",
              "      <td>No, not at all</td>\n",
              "      <td>NaN</td>\n",
              "      <td>Multiple times per day</td>\n",
              "      <td>Neither easy nor difficult</td>\n",
              "      <td>Appropriate in length</td>\n",
              "      <td>No</td>\n",
              "      <td>Computer science, computer engineering, or sof...</td>\n",
              "      <td>ASP.NET Core</td>\n",
              "      <td>ASP.NET;ASP.NET Core</td>\n",
              "      <td>Just as welcome now as I felt last year</td>\n",
              "      <td>50.0</td>\n",
              "      <td>36</td>\n",
              "      <td>27</td>\n",
              "    </tr>\n",
              "    <tr>\n",
              "      <th>1</th>\n",
              "      <td>2</td>\n",
              "      <td>I am a developer by profession</td>\n",
              "      <td>No</td>\n",
              "      <td>NaN</td>\n",
              "      <td>19</td>\n",
              "      <td>NaN</td>\n",
              "      <td>NaN</td>\n",
              "      <td>NaN</td>\n",
              "      <td>United Kingdom</td>\n",
              "      <td>Pound sterling</td>\n",
              "      <td>GBP</td>\n",
              "      <td>NaN</td>\n",
              "      <td>NaN</td>\n",
              "      <td>Developer, full-stack;Developer, mobile</td>\n",
              "      <td>Bachelor’s degree (B.A., B.S., B.Eng., etc.)</td>\n",
              "      <td>Employed full-time</td>\n",
              "      <td>NaN</td>\n",
              "      <td>NaN</td>\n",
              "      <td>NaN</td>\n",
              "      <td>Very dissatisfied</td>\n",
              "      <td>I am not interested in new job opportunities</td>\n",
              "      <td>Python;Swift</td>\n",
              "      <td>JavaScript;Swift</td>\n",
              "      <td>React Native;TensorFlow;Unity 3D</td>\n",
              "      <td>React Native</td>\n",
              "      <td>Github;Slack</td>\n",
              "      <td>Confluence;Jira;Github;Gitlab;Slack</td>\n",
              "      <td>NaN</td>\n",
              "      <td>NaN</td>\n",
              "      <td>Fairly important</td>\n",
              "      <td>NaN</td>\n",
              "      <td>NaN</td>\n",
              "      <td>Once a year</td>\n",
              "      <td>Not sure</td>\n",
              "      <td>NaN</td>\n",
              "      <td>No</td>\n",
              "      <td>NaN</td>\n",
              "      <td>NaN</td>\n",
              "      <td>Amused</td>\n",
              "      <td>Stack Overflow (public Q&amp;A for anyone who code...</td>\n",
              "      <td>Visit Stack Overflow;Go for a walk or other ph...</td>\n",
              "      <td>MacOS</td>\n",
              "      <td>1,000 to 4,999 employees</td>\n",
              "      <td>iOS;Kubernetes;Linux;MacOS</td>\n",
              "      <td>iOS</td>\n",
              "      <td>I have little or no influence</td>\n",
              "      <td>NaN</td>\n",
              "      <td>Yes</td>\n",
              "      <td>Yes, definitely</td>\n",
              "      <td>Less than once per month or monthly</td>\n",
              "      <td>Multiple times per day</td>\n",
              "      <td>NaN</td>\n",
              "      <td>NaN</td>\n",
              "      <td>NaN</td>\n",
              "      <td>Computer science, computer engineering, or sof...</td>\n",
              "      <td>NaN</td>\n",
              "      <td>NaN</td>\n",
              "      <td>Somewhat more welcome now than last year</td>\n",
              "      <td>NaN</td>\n",
              "      <td>7</td>\n",
              "      <td>4</td>\n",
              "    </tr>\n",
              "    <tr>\n",
              "      <th>2</th>\n",
              "      <td>3</td>\n",
              "      <td>I code primarily as a hobby</td>\n",
              "      <td>Yes</td>\n",
              "      <td>NaN</td>\n",
              "      <td>15</td>\n",
              "      <td>NaN</td>\n",
              "      <td>NaN</td>\n",
              "      <td>NaN</td>\n",
              "      <td>Russian Federation</td>\n",
              "      <td>NaN</td>\n",
              "      <td>NaN</td>\n",
              "      <td>NaN</td>\n",
              "      <td>NaN</td>\n",
              "      <td>NaN</td>\n",
              "      <td>NaN</td>\n",
              "      <td>NaN</td>\n",
              "      <td>NaN</td>\n",
              "      <td>NaN</td>\n",
              "      <td>NaN</td>\n",
              "      <td>NaN</td>\n",
              "      <td>NaN</td>\n",
              "      <td>Objective-C;Python;Swift</td>\n",
              "      <td>Objective-C;Python;Swift</td>\n",
              "      <td>NaN</td>\n",
              "      <td>NaN</td>\n",
              "      <td>NaN</td>\n",
              "      <td>NaN</td>\n",
              "      <td>NaN</td>\n",
              "      <td>NaN</td>\n",
              "      <td>NaN</td>\n",
              "      <td>NaN</td>\n",
              "      <td>NaN</td>\n",
              "      <td>Once a decade</td>\n",
              "      <td>NaN</td>\n",
              "      <td>NaN</td>\n",
              "      <td>No</td>\n",
              "      <td>NaN</td>\n",
              "      <td>NaN</td>\n",
              "      <td>NaN</td>\n",
              "      <td>Stack Overflow (public Q&amp;A for anyone who codes)</td>\n",
              "      <td>NaN</td>\n",
              "      <td>Linux-based</td>\n",
              "      <td>NaN</td>\n",
              "      <td>NaN</td>\n",
              "      <td>NaN</td>\n",
              "      <td>NaN</td>\n",
              "      <td>NaN</td>\n",
              "      <td>Yes</td>\n",
              "      <td>Yes, somewhat</td>\n",
              "      <td>A few times per month or weekly</td>\n",
              "      <td>Daily or almost daily</td>\n",
              "      <td>Neither easy nor difficult</td>\n",
              "      <td>Appropriate in length</td>\n",
              "      <td>NaN</td>\n",
              "      <td>NaN</td>\n",
              "      <td>NaN</td>\n",
              "      <td>NaN</td>\n",
              "      <td>Somewhat more welcome now than last year</td>\n",
              "      <td>NaN</td>\n",
              "      <td>4</td>\n",
              "      <td>NaN</td>\n",
              "    </tr>\n",
              "    <tr>\n",
              "      <th>3</th>\n",
              "      <td>4</td>\n",
              "      <td>I am a developer by profession</td>\n",
              "      <td>Yes</td>\n",
              "      <td>25.0</td>\n",
              "      <td>18</td>\n",
              "      <td>NaN</td>\n",
              "      <td>NaN</td>\n",
              "      <td>NaN</td>\n",
              "      <td>Albania</td>\n",
              "      <td>Albanian lek</td>\n",
              "      <td>ALL</td>\n",
              "      <td>NaN</td>\n",
              "      <td>NaN</td>\n",
              "      <td>NaN</td>\n",
              "      <td>Master’s degree (M.A., M.S., M.Eng., MBA, etc.)</td>\n",
              "      <td>NaN</td>\n",
              "      <td>White or of European descent</td>\n",
              "      <td>Man</td>\n",
              "      <td>Flex time or a flexible schedule;Office enviro...</td>\n",
              "      <td>Slightly dissatisfied</td>\n",
              "      <td>I’m not actively looking, but I am open to new...</td>\n",
              "      <td>NaN</td>\n",
              "      <td>NaN</td>\n",
              "      <td>NaN</td>\n",
              "      <td>NaN</td>\n",
              "      <td>NaN</td>\n",
              "      <td>NaN</td>\n",
              "      <td>No</td>\n",
              "      <td>NaN</td>\n",
              "      <td>Not at all important/not necessary</td>\n",
              "      <td>Curious about other opportunities;Wanting to w...</td>\n",
              "      <td>NaN</td>\n",
              "      <td>Once a year</td>\n",
              "      <td>Not sure</td>\n",
              "      <td>Yes</td>\n",
              "      <td>Yes</td>\n",
              "      <td>Occasionally: 1-2 days per quarter but less th...</td>\n",
              "      <td>NaN</td>\n",
              "      <td>NaN</td>\n",
              "      <td>Stack Overflow (public Q&amp;A for anyone who code...</td>\n",
              "      <td>NaN</td>\n",
              "      <td>Linux-based</td>\n",
              "      <td>20 to 99 employees</td>\n",
              "      <td>NaN</td>\n",
              "      <td>NaN</td>\n",
              "      <td>I have a great deal of influence</td>\n",
              "      <td>Straight / Heterosexual</td>\n",
              "      <td>Yes</td>\n",
              "      <td>Yes, definitely</td>\n",
              "      <td>A few times per month or weekly</td>\n",
              "      <td>Multiple times per day</td>\n",
              "      <td>NaN</td>\n",
              "      <td>NaN</td>\n",
              "      <td>No</td>\n",
              "      <td>Computer science, computer engineering, or sof...</td>\n",
              "      <td>NaN</td>\n",
              "      <td>NaN</td>\n",
              "      <td>Somewhat less welcome now than last year</td>\n",
              "      <td>40.0</td>\n",
              "      <td>7</td>\n",
              "      <td>4</td>\n",
              "    </tr>\n",
              "    <tr>\n",
              "      <th>4</th>\n",
              "      <td>5</td>\n",
              "      <td>I used to be a developer by profession, but no...</td>\n",
              "      <td>Yes</td>\n",
              "      <td>31.0</td>\n",
              "      <td>16</td>\n",
              "      <td>NaN</td>\n",
              "      <td>NaN</td>\n",
              "      <td>NaN</td>\n",
              "      <td>United States</td>\n",
              "      <td>NaN</td>\n",
              "      <td>NaN</td>\n",
              "      <td>MySQL;PostgreSQL</td>\n",
              "      <td>MySQL;PostgreSQL;Redis;SQLite</td>\n",
              "      <td>NaN</td>\n",
              "      <td>Bachelor’s degree (B.A., B.S., B.Eng., etc.)</td>\n",
              "      <td>Employed full-time</td>\n",
              "      <td>White or of European descent</td>\n",
              "      <td>Man</td>\n",
              "      <td>NaN</td>\n",
              "      <td>NaN</td>\n",
              "      <td>NaN</td>\n",
              "      <td>Java;Ruby;Scala</td>\n",
              "      <td>HTML/CSS;Ruby;SQL</td>\n",
              "      <td>Ansible;Chef</td>\n",
              "      <td>Ansible</td>\n",
              "      <td>Github;Google Suite (Docs, Meet, etc)</td>\n",
              "      <td>Confluence;Jira;Github;Slack;Google Suite (Doc...</td>\n",
              "      <td>NaN</td>\n",
              "      <td>NaN</td>\n",
              "      <td>Very important</td>\n",
              "      <td>NaN</td>\n",
              "      <td>NaN</td>\n",
              "      <td>Once a year</td>\n",
              "      <td>No</td>\n",
              "      <td>NaN</td>\n",
              "      <td>Yes</td>\n",
              "      <td>NaN</td>\n",
              "      <td>Start a free trial;Ask developers I know/work ...</td>\n",
              "      <td>Hello, old friend</td>\n",
              "      <td>Stack Overflow (public Q&amp;A for anyone who code...</td>\n",
              "      <td>Call a coworker or friend;Visit Stack Overflow...</td>\n",
              "      <td>Windows</td>\n",
              "      <td>NaN</td>\n",
              "      <td>Docker;Google Cloud Platform;Heroku;Linux;Windows</td>\n",
              "      <td>AWS;Docker;Linux;MacOS;Windows</td>\n",
              "      <td>NaN</td>\n",
              "      <td>Straight / Heterosexual</td>\n",
              "      <td>Yes</td>\n",
              "      <td>Yes, somewhat</td>\n",
              "      <td>Less than once per month or monthly</td>\n",
              "      <td>A few times per month or weekly</td>\n",
              "      <td>Easy</td>\n",
              "      <td>Too short</td>\n",
              "      <td>No</td>\n",
              "      <td>Computer science, computer engineering, or sof...</td>\n",
              "      <td>Django;Ruby on Rails</td>\n",
              "      <td>Ruby on Rails</td>\n",
              "      <td>Just as welcome now as I felt last year</td>\n",
              "      <td>NaN</td>\n",
              "      <td>15</td>\n",
              "      <td>8</td>\n",
              "    </tr>\n",
              "  </tbody>\n",
              "</table>\n",
              "</div>"
            ],
            "text/plain": [
              "   Respondent  ... YearsCodePro\n",
              "0           1  ...           27\n",
              "1           2  ...            4\n",
              "2           3  ...          NaN\n",
              "3           4  ...            4\n",
              "4           5  ...            8\n",
              "\n",
              "[5 rows x 61 columns]"
            ]
          },
          "metadata": {
            "tags": []
          },
          "execution_count": 7
        }
      ]
    },
    {
      "cell_type": "markdown",
      "metadata": {
        "id": "u-XXvePZynTf",
        "colab_type": "text"
      },
      "source": [
        "**CRISP-DM: Business Understanding**\n",
        "\n",
        "As technology and business markets change, developers must change as well. A language that was popular several years before may have little to no market share now. It is important to know what the industry trends are and how they change."
      ]
    },
    {
      "cell_type": "markdown",
      "metadata": {
        "id": "21BssopVzk4e",
        "colab_type": "text"
      },
      "source": [
        "**CRISP-DM: Data Understanding**"
      ]
    },
    {
      "cell_type": "code",
      "metadata": {
        "id": "15FPmJsNzrjt",
        "colab_type": "code",
        "colab": {
          "base_uri": "https://localhost:8080/",
          "height": 423
        },
        "outputId": "9f3df6eb-2eaf-4984-ceab-e9e87f2568dc"
      },
      "source": [
        "df_20['LanguageWorkedWith'].value_counts().reset_index()"
      ],
      "execution_count": 12,
      "outputs": [
        {
          "output_type": "execute_result",
          "data": {
            "text/html": [
              "<div>\n",
              "<style scoped>\n",
              "    .dataframe tbody tr th:only-of-type {\n",
              "        vertical-align: middle;\n",
              "    }\n",
              "\n",
              "    .dataframe tbody tr th {\n",
              "        vertical-align: top;\n",
              "    }\n",
              "\n",
              "    .dataframe thead th {\n",
              "        text-align: right;\n",
              "    }\n",
              "</style>\n",
              "<table border=\"1\" class=\"dataframe\">\n",
              "  <thead>\n",
              "    <tr style=\"text-align: right;\">\n",
              "      <th></th>\n",
              "      <th>index</th>\n",
              "      <th>LanguageWorkedWith</th>\n",
              "    </tr>\n",
              "  </thead>\n",
              "  <tbody>\n",
              "    <tr>\n",
              "      <th>0</th>\n",
              "      <td>HTML/CSS;JavaScript;PHP;SQL</td>\n",
              "      <td>1073</td>\n",
              "    </tr>\n",
              "    <tr>\n",
              "      <th>1</th>\n",
              "      <td>HTML/CSS;JavaScript</td>\n",
              "      <td>900</td>\n",
              "    </tr>\n",
              "    <tr>\n",
              "      <th>2</th>\n",
              "      <td>C#;HTML/CSS;JavaScript;SQL</td>\n",
              "      <td>856</td>\n",
              "    </tr>\n",
              "    <tr>\n",
              "      <th>3</th>\n",
              "      <td>C#;HTML/CSS;JavaScript;SQL;TypeScript</td>\n",
              "      <td>754</td>\n",
              "    </tr>\n",
              "    <tr>\n",
              "      <th>4</th>\n",
              "      <td>HTML/CSS;JavaScript;TypeScript</td>\n",
              "      <td>697</td>\n",
              "    </tr>\n",
              "    <tr>\n",
              "      <th>...</th>\n",
              "      <td>...</td>\n",
              "      <td>...</td>\n",
              "    </tr>\n",
              "    <tr>\n",
              "      <th>14251</th>\n",
              "      <td>C#;HTML/CSS;Java;JavaScript;Kotlin;Python;R;SQL</td>\n",
              "      <td>1</td>\n",
              "    </tr>\n",
              "    <tr>\n",
              "      <th>14252</th>\n",
              "      <td>Bash/Shell/PowerShell;C;C#;C++;HTML/CSS;Java;J...</td>\n",
              "      <td>1</td>\n",
              "    </tr>\n",
              "    <tr>\n",
              "      <th>14253</th>\n",
              "      <td>C;C#;C++;HTML/CSS;Java;JavaScript;PHP;R;SQL;Ty...</td>\n",
              "      <td>1</td>\n",
              "    </tr>\n",
              "    <tr>\n",
              "      <th>14254</th>\n",
              "      <td>C;C++;HTML/CSS;JavaScript;Python;Ruby;SQL;Type...</td>\n",
              "      <td>1</td>\n",
              "    </tr>\n",
              "    <tr>\n",
              "      <th>14255</th>\n",
              "      <td>Assembly;Bash/Shell/PowerShell;C;C#;C++;HTML/C...</td>\n",
              "      <td>1</td>\n",
              "    </tr>\n",
              "  </tbody>\n",
              "</table>\n",
              "<p>14256 rows × 2 columns</p>\n",
              "</div>"
            ],
            "text/plain": [
              "                                                   index  LanguageWorkedWith\n",
              "0                            HTML/CSS;JavaScript;PHP;SQL                1073\n",
              "1                                    HTML/CSS;JavaScript                 900\n",
              "2                             C#;HTML/CSS;JavaScript;SQL                 856\n",
              "3                  C#;HTML/CSS;JavaScript;SQL;TypeScript                 754\n",
              "4                         HTML/CSS;JavaScript;TypeScript                 697\n",
              "...                                                  ...                 ...\n",
              "14251    C#;HTML/CSS;Java;JavaScript;Kotlin;Python;R;SQL                   1\n",
              "14252  Bash/Shell/PowerShell;C;C#;C++;HTML/CSS;Java;J...                   1\n",
              "14253  C;C#;C++;HTML/CSS;Java;JavaScript;PHP;R;SQL;Ty...                   1\n",
              "14254  C;C++;HTML/CSS;JavaScript;Python;Ruby;SQL;Type...                   1\n",
              "14255  Assembly;Bash/Shell/PowerShell;C;C#;C++;HTML/C...                   1\n",
              "\n",
              "[14256 rows x 2 columns]"
            ]
          },
          "metadata": {
            "tags": []
          },
          "execution_count": 12
        }
      ]
    },
    {
      "cell_type": "markdown",
      "metadata": {
        "id": "B2U4ocai0kFG",
        "colab_type": "text"
      },
      "source": [
        "The datasets provided by Stack Overflow show that developers frequently use several languages. We will need to separate those before we conduct any more analysis."
      ]
    },
    {
      "cell_type": "markdown",
      "metadata": {
        "id": "I7P3_Rjk02Jk",
        "colab_type": "text"
      },
      "source": [
        "**CRISP-DM: Data Preparation**\n",
        "\n",
        "Since we are working with 4 separate data frames, we should build a function that will enable us to separate items from a list. This enables us to efficiently use coding and computing resources with reusable code."
      ]
    },
    {
      "cell_type": "code",
      "metadata": {
        "id": "bYfgaogy1R9B",
        "colab_type": "code",
        "colab": {}
      },
      "source": [
        "def separate_list(list_input):\n",
        "    '''\n",
        "    INPUT - A list containing multiple items joined together.\n",
        "\n",
        "    OUTPUT - A list containing the items separated out individually.\n",
        "    '''\n",
        "    list_new = []\n",
        "    for language in list_input:\n",
        "        new_item = language.split(';')\n",
        "        new_item = map(lambda x: x.strip(), new_item) \n",
        "        list_new.extend(list(new_item))\n",
        "\n",
        "    return list(set(list_new))"
      ],
      "execution_count": 15,
      "outputs": []
    },
    {
      "cell_type": "markdown",
      "metadata": {
        "id": "zMpQBE3n2K0x",
        "colab_type": "text"
      },
      "source": [
        "Now that we have a function that can effectively process our data to get it into the format that we need, let's build the variables we need for our analysis."
      ]
    },
    {
      "cell_type": "code",
      "metadata": {
        "id": "QBHWJgoH2Vjv",
        "colab_type": "code",
        "colab": {}
      },
      "source": [
        "languages_list_17 = list(df_17.groupby(['HaveWorkedLanguage']).mean().index)\n",
        "langs_17 = separate_list(languages_list_17)\n",
        "languages_list_18 = list(df_18.groupby(['LanguageWorkedWith']).mean().index)\n",
        "langs_18 = separate_list(languages_list_18)\n",
        "languages_list_19 = list(df_19.groupby(['LanguageWorkedWith']).mean().index)\n",
        "langs_19 = separate_list(languages_list_19)\n",
        "languages_list_20 = list(df_20.groupby(['LanguageWorkedWith']).mean().index)\n",
        "langs_20 = separate_list(languages_list_20)"
      ],
      "execution_count": 31,
      "outputs": []
    },
    {
      "cell_type": "markdown",
      "metadata": {
        "id": "rTCkXRO46Fx6",
        "colab_type": "text"
      },
      "source": [
        "We will use the `total_count` function to parse through these data frames to provide a summation of the instances of each language."
      ]
    },
    {
      "cell_type": "code",
      "metadata": {
        "id": "u6KOB0xj6rzc",
        "colab_type": "code",
        "colab": {}
      },
      "source": [
        "def total_count(df, column_1, column_2, rename_column, possible_vals):\n",
        "    '''\n",
        "    Code from: https://github.com/nouman-10/Insights-from-Stackoverflow-Dataset/blob/master/utils.py\n",
        "    INPUT:\n",
        "    df - the pandas dataframe you want to search\n",
        "    column_1 - the column name you want to look through\n",
        "    column_2 - the column you want to count values from\n",
        "    rename_column - the column you want the original column_1 renamed to\n",
        "    possible_vals - a list of strings you want to search for in each row of df[col]\n",
        "    OUTPUT:\n",
        "    new_df - a dataframe of each look_for with the count of how often it shows up\n",
        "    '''\n",
        "    df = df[column_1].value_counts().reset_index()\n",
        "    df.rename(columns={'index': rename_column, column_1: column_2}, inplace=True)\n",
        "    new_df = defaultdict(int)\n",
        "    #loop through list of possible values\n",
        "    for val in possible_vals:\n",
        "        #loop through rows\n",
        "        for index in range(df.shape[0]):\n",
        "            if val in df[rename_column][index]:\n",
        "                new_df[val] += int(df[column_2][index])\n",
        "    new_df = pd.DataFrame(pd.Series(new_df)).reset_index()\n",
        "    new_df.columns = [rename_column, column_2]\n",
        "    new_df.sort_values('count', ascending=False, inplace=True)\n",
        "    new_df.set_index(rename_column, inplace=True)\n",
        "    return new_df"
      ],
      "execution_count": 35,
      "outputs": []
    },
    {
      "cell_type": "code",
      "metadata": {
        "id": "rieb5OXB6X9i",
        "colab_type": "code",
        "colab": {}
      },
      "source": [
        "langs_df17 = total_count(df_17, 'HaveWorkedLanguage', 'count', 'Language', langs_17)\n",
        "langs_df18 = total_count(df_18, 'LanguageWorkedWith', 'count', 'Language', langs_18)\n",
        "langs_df19 = total_count(df_19, 'LanguageWorkedWith', 'count', 'Language', langs_19)\n",
        "langs_df20 = total_count(df_20, 'LanguageWorkedWith', 'count', 'Language', langs_20)"
      ],
      "execution_count": 40,
      "outputs": []
    },
    {
      "cell_type": "code",
      "metadata": {
        "id": "4N7UH-bL7qHi",
        "colab_type": "code",
        "colab": {
          "base_uri": "https://localhost:8080/",
          "height": 237
        },
        "outputId": "5a747469-b4c6-499a-80e1-331b3d5bb07d"
      },
      "source": [
        "langs_df20.head()"
      ],
      "execution_count": 41,
      "outputs": [
        {
          "output_type": "execute_result",
          "data": {
            "text/html": [
              "<div>\n",
              "<style scoped>\n",
              "    .dataframe tbody tr th:only-of-type {\n",
              "        vertical-align: middle;\n",
              "    }\n",
              "\n",
              "    .dataframe tbody tr th {\n",
              "        vertical-align: top;\n",
              "    }\n",
              "\n",
              "    .dataframe thead th {\n",
              "        text-align: right;\n",
              "    }\n",
              "</style>\n",
              "<table border=\"1\" class=\"dataframe\">\n",
              "  <thead>\n",
              "    <tr style=\"text-align: right;\">\n",
              "      <th></th>\n",
              "      <th>count</th>\n",
              "    </tr>\n",
              "    <tr>\n",
              "      <th>Language</th>\n",
              "      <th></th>\n",
              "    </tr>\n",
              "  </thead>\n",
              "  <tbody>\n",
              "    <tr>\n",
              "      <th>C</th>\n",
              "      <td>46769</td>\n",
              "    </tr>\n",
              "    <tr>\n",
              "      <th>Java</th>\n",
              "      <td>45749</td>\n",
              "    </tr>\n",
              "    <tr>\n",
              "      <th>JavaScript</th>\n",
              "      <td>38822</td>\n",
              "    </tr>\n",
              "    <tr>\n",
              "      <th>HTML/CSS</th>\n",
              "      <td>36181</td>\n",
              "    </tr>\n",
              "    <tr>\n",
              "      <th>SQL</th>\n",
              "      <td>31413</td>\n",
              "    </tr>\n",
              "  </tbody>\n",
              "</table>\n",
              "</div>"
            ],
            "text/plain": [
              "            count\n",
              "Language         \n",
              "C           46769\n",
              "Java        45749\n",
              "JavaScript  38822\n",
              "HTML/CSS    36181\n",
              "SQL         31413"
            ]
          },
          "metadata": {
            "tags": []
          },
          "execution_count": 41
        }
      ]
    },
    {
      "cell_type": "markdown",
      "metadata": {
        "id": "a5_RvDCl7vs8",
        "colab_type": "text"
      },
      "source": [
        "Now that our data is in the correct format, we can utilize a bar plot to compare the survey responses visually. To do this, we first need to create a new data frame combining the data from the four years."
      ]
    },
    {
      "cell_type": "code",
      "metadata": {
        "id": "8243KvKy786U",
        "colab_type": "code",
        "colab": {
          "base_uri": "https://localhost:8080/",
          "height": 237
        },
        "outputId": "228c2de5-a060-4247-e5ae-60fa4bddaf6b"
      },
      "source": [
        "langs_17_18 = pd.merge(langs_df17, langs_df18, on='Language')\n",
        "langs_19_20 = pd.merge(langs_df19, langs_df20, on='Language')\n",
        "langs_merge = pd.merge(langs_17_18, langs_19_20, on='Language')\n",
        "langs_merge.columns = ['2017', '2018', '2019', '2020']\n",
        "\n",
        "langs_merge.head()"
      ],
      "execution_count": 42,
      "outputs": [
        {
          "output_type": "execute_result",
          "data": {
            "text/html": [
              "<div>\n",
              "<style scoped>\n",
              "    .dataframe tbody tr th:only-of-type {\n",
              "        vertical-align: middle;\n",
              "    }\n",
              "\n",
              "    .dataframe tbody tr th {\n",
              "        vertical-align: top;\n",
              "    }\n",
              "\n",
              "    .dataframe thead th {\n",
              "        text-align: right;\n",
              "    }\n",
              "</style>\n",
              "<table border=\"1\" class=\"dataframe\">\n",
              "  <thead>\n",
              "    <tr style=\"text-align: right;\">\n",
              "      <th></th>\n",
              "      <th>2017</th>\n",
              "      <th>2018</th>\n",
              "      <th>2019</th>\n",
              "      <th>2020</th>\n",
              "    </tr>\n",
              "    <tr>\n",
              "      <th>Language</th>\n",
              "      <th></th>\n",
              "      <th></th>\n",
              "      <th></th>\n",
              "      <th></th>\n",
              "    </tr>\n",
              "  </thead>\n",
              "  <tbody>\n",
              "    <tr>\n",
              "      <th>Java</th>\n",
              "      <td>3837</td>\n",
              "      <td>43844</td>\n",
              "      <td>46695</td>\n",
              "      <td>45749</td>\n",
              "    </tr>\n",
              "    <tr>\n",
              "      <th>JavaScript</th>\n",
              "      <td>3135</td>\n",
              "      <td>37376</td>\n",
              "      <td>39487</td>\n",
              "      <td>38822</td>\n",
              "    </tr>\n",
              "    <tr>\n",
              "      <th>C</th>\n",
              "      <td>3035</td>\n",
              "      <td>44772</td>\n",
              "      <td>48006</td>\n",
              "      <td>46769</td>\n",
              "    </tr>\n",
              "    <tr>\n",
              "      <th>SQL</th>\n",
              "      <td>2560</td>\n",
              "      <td>31047</td>\n",
              "      <td>31777</td>\n",
              "      <td>31413</td>\n",
              "    </tr>\n",
              "    <tr>\n",
              "      <th>C#</th>\n",
              "      <td>1866</td>\n",
              "      <td>18849</td>\n",
              "      <td>18130</td>\n",
              "      <td>18041</td>\n",
              "    </tr>\n",
              "  </tbody>\n",
              "</table>\n",
              "</div>"
            ],
            "text/plain": [
              "            2017   2018   2019   2020\n",
              "Language                             \n",
              "Java        3837  43844  46695  45749\n",
              "JavaScript  3135  37376  39487  38822\n",
              "C           3035  44772  48006  46769\n",
              "SQL         2560  31047  31777  31413\n",
              "C#          1866  18849  18130  18041"
            ]
          },
          "metadata": {
            "tags": []
          },
          "execution_count": 42
        }
      ]
    },
    {
      "cell_type": "code",
      "metadata": {
        "id": "YjXMDNc286Fa",
        "colab_type": "code",
        "colab": {
          "base_uri": "https://localhost:8080/",
          "height": 579
        },
        "outputId": "b3df9877-1744-44e3-bcba-d8751313e362"
      },
      "source": [
        "(langs_merge/langs_merge.sum()).plot(kind='bar', title='Most Utilized Programming Languages from 2017-2020', figsize=(12,8))"
      ],
      "execution_count": 43,
      "outputs": [
        {
          "output_type": "execute_result",
          "data": {
            "text/plain": [
              "<matplotlib.axes._subplots.AxesSubplot at 0x7f3cdaeb9438>"
            ]
          },
          "metadata": {
            "tags": []
          },
          "execution_count": 43
        },
        {
          "output_type": "display_data",
          "data": {
            "image/png": "[encoded data removed]",
            "text/plain": [
              "<Figure size 864x576 with 1 Axes>"
            ]
          },
          "metadata": {
            "tags": [],
            "needs_background": "light"
          }
        }
      ]
    },
    {
      "cell_type": "markdown",
      "metadata": {
        "id": "WjjZVgsI9cMt",
        "colab_type": "text"
      },
      "source": [
        "**CRISP-DM: Evaluation**\n",
        "From the bar plot, we can see that while Java and JavaScript were incredibly popular in 2017 and 2018, their usage is beginning to diminish slightly, while C and Python are beginning to increase. Both Java and JavaScript are most used for web development, while C and Python are frequently used for backend and analysis. Over the past few years, data science has become incredibly popular. Is there a correlation?"
      ]
    }
  ]
}